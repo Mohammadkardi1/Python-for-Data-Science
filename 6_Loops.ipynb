{
  "nbformat": 4,
  "nbformat_minor": 0,
  "metadata": {
    "colab": {
      "name": "training.ipynb",
      "provenance": [],
      "collapsed_sections": []
    },
    "kernelspec": {
      "name": "python3",
      "display_name": "Python 3"
    },
    "accelerator": "GPU"
  },
  "cells": [
    {
      "cell_type": "markdown",
      "metadata": {
        "id": "mCB0kxbI40It",
        "colab_type": "text"
      },
      "source": [
        "#While Loop\n",
        "\n",
        "\n",
        "In python, while loop is used to execute a block of statements repeatedly until a given a condition is satisfied. And when the condition becomes false, the line immediately after the loop in program is executed.\n",
        "\n",
        "**Syntax :**\n",
        "\n",
        "\n",
        "```\n",
        "while expression:\n",
        "    statement(s)\n",
        "```"
      ]
    },
    {
      "cell_type": "code",
      "metadata": {
        "id": "RyxXatC34tV8",
        "colab_type": "code",
        "colab": {
          "base_uri": "https://localhost:8080/",
          "height": 67
        },
        "outputId": "78e0ef20-6e95-48f2-886f-bdda24484814"
      },
      "source": [
        "# while loop \n",
        "count = 0\n",
        "while (count < 3):\t \n",
        "\tcount = count + 1\n",
        "\tprint(\"Hello World\") \n"
      ],
      "execution_count": 1,
      "outputs": [
        {
          "output_type": "stream",
          "text": [
            "Hello World\n",
            "Hello World\n",
            "Hello World\n"
          ],
          "name": "stdout"
        }
      ]
    },
    {
      "cell_type": "markdown",
      "metadata": {
        "id": "i6ACJUR35xsN",
        "colab_type": "text"
      },
      "source": [
        "**Using else statement with while loops:** As discussed above, while loop executes the block until a condition is satisfied. When the condition becomes false, the statement immediately after the loop is executed.\n",
        "The else clause is only executed when your while condition becomes false. If you break out of the loop, or if an exception is raised, it won’t be executed."
      ]
    },
    {
      "cell_type": "code",
      "metadata": {
        "id": "0O1XS-Cd51Xj",
        "colab_type": "code",
        "colab": {
          "base_uri": "https://localhost:8080/",
          "height": 84
        },
        "outputId": "45905bbd-433f-44f8-c97e-4420479650cd"
      },
      "source": [
        "# combining else with while \n",
        "count = 0\n",
        "while (count < 3):\t \n",
        "\tcount = count + 1\n",
        "\tprint(\"Hello World\") \n",
        "else: \n",
        "\tprint(\"In Else Block\") \n"
      ],
      "execution_count": 2,
      "outputs": [
        {
          "output_type": "stream",
          "text": [
            "Hello World\n",
            "Hello World\n",
            "Hello World\n",
            "In Else Block\n"
          ],
          "name": "stdout"
        }
      ]
    },
    {
      "cell_type": "markdown",
      "metadata": {
        "id": "UDe4svtO6U5f",
        "colab_type": "text"
      },
      "source": [
        "#for Loop\n",
        "For loops are used for sequential traversal. For example: traversing a list or string or array etc.\n",
        "\n",
        "**Syntax:**\n",
        "\n",
        "\n",
        "```\n",
        "for iterator_var in sequence:\n",
        "    statements(s)\n",
        "```\n",
        "\n"
      ]
    },
    {
      "cell_type": "code",
      "metadata": {
        "id": "g0Vg8K4k629m",
        "colab_type": "code",
        "colab": {
          "base_uri": "https://localhost:8080/",
          "height": 386
        },
        "outputId": "6db7d68b-a59a-4eb9-8b29-cba76e2af038"
      },
      "source": [
        "# Iterating over a list \n",
        "print(\"List Iteration\") \n",
        "list1 = [\"Facebook\", \"Instagram\", \"Whatsapp\"] \n",
        "for i in list1: \n",
        "\tprint(i) \n",
        "\t\n",
        "# Iterating over a tuple \n",
        "print(\"\\nTuple Iteration\") \n",
        "t = (\"Apple\", \"Banana\", \"Orange\") \n",
        "for i in t: \n",
        "\tprint(i) \n",
        "\t\n",
        "# Iterating over a String \n",
        "print(\"\\nString Iteration\")\t \n",
        "s = \"Python\"\n",
        "for i in s : \n",
        "\tprint(i) \n",
        "\t\n",
        "# Iterating over dictionary \n",
        "print(\"\\nDictionary Iteration\") \n",
        "d = dict() \n",
        "d['A'] = 100\n",
        "d['B'] = 200\n",
        "print(d)\n",
        "for i in d : \n",
        "\tprint(i, d[i]) \n"
      ],
      "execution_count": 5,
      "outputs": [
        {
          "output_type": "stream",
          "text": [
            "List Iteration\n",
            "Facebook\n",
            "Instagram\n",
            "Whatsapp\n",
            "\n",
            "Tuple Iteration\n",
            "Apple\n",
            "Banana\n",
            "Orange\n",
            "\n",
            "String Iteration\n",
            "P\n",
            "y\n",
            "t\n",
            "h\n",
            "o\n",
            "n\n",
            "\n",
            "Dictionary Iteration\n",
            "{'A': 100, 'B': 200}\n",
            "A 100\n",
            "B 200\n"
          ],
          "name": "stdout"
        }
      ]
    },
    {
      "cell_type": "markdown",
      "metadata": {
        "id": "gp4BcGmv74WC",
        "colab_type": "text"
      },
      "source": [
        "#Nested For Loops\n",
        "\n",
        "**Syntax:**\n",
        "\n",
        "\n",
        "```\n",
        "for iterator_var in sequence: \n",
        "\tfor iterator_var in sequence: \n",
        "\t\tstatements(s) \n",
        "\t\tstatements(s) \n",
        "```\n",
        "\n"
      ]
    },
    {
      "cell_type": "code",
      "metadata": {
        "id": "oaTcG3g48OCO",
        "colab_type": "code",
        "colab": {
          "base_uri": "https://localhost:8080/",
          "height": 84
        },
        "outputId": "3a6a99c8-ae7d-4c3b-f33b-976eede240cb"
      },
      "source": [
        "# nested for loops in Python \n",
        "for i in range(1, 5): \n",
        "\tfor j in range(i): \n",
        "\t\tprint(i, end=' ') \n",
        "\tprint() \n"
      ],
      "execution_count": 6,
      "outputs": [
        {
          "output_type": "stream",
          "text": [
            "1 \n",
            "2 2 \n",
            "3 3 3 \n",
            "4 4 4 4 \n"
          ],
          "name": "stdout"
        }
      ]
    },
    {
      "cell_type": "markdown",
      "metadata": {
        "id": "IiCKHnS581oS",
        "colab_type": "text"
      },
      "source": [
        "#Loop Control Statements\n",
        "\n",
        "Loop control statements change execution from its normal sequence. When execution leaves a scope, all automatic objects that were created in that scope are destroyed. Python supports the following control statements.\n",
        "\n",
        "---\n",
        "\n",
        "**Continue Statement**\n",
        "It returns the control to the beginning of the loop."
      ]
    },
    {
      "cell_type": "code",
      "metadata": {
        "id": "HC4mEi-X9FLG",
        "colab_type": "code",
        "colab": {
          "base_uri": "https://localhost:8080/",
          "height": 118
        },
        "outputId": "96c068d2-e3bc-4e0d-afac-372c3b43e80a"
      },
      "source": [
        "# Prints all letters except 'o' \n",
        "for letter in 'Facebook': \n",
        "\tif letter == 'o' : \n",
        "\t\tcontinue\n",
        "\tprint ( letter )\n"
      ],
      "execution_count": 7,
      "outputs": [
        {
          "output_type": "stream",
          "text": [
            "F\n",
            "a\n",
            "c\n",
            "e\n",
            "b\n",
            "k\n"
          ],
          "name": "stdout"
        }
      ]
    },
    {
      "cell_type": "markdown",
      "metadata": {
        "id": "Uf-0w7_T9v3o",
        "colab_type": "text"
      },
      "source": [
        "**Break Statement**\n",
        "\n",
        "It brings control out of the loop"
      ]
    },
    {
      "cell_type": "code",
      "metadata": {
        "id": "IPXqMN9O90q-",
        "colab_type": "code",
        "colab": {
          "base_uri": "https://localhost:8080/",
          "height": 101
        },
        "outputId": "b984e2d3-060f-465c-cbe3-708b61515522"
      },
      "source": [
        "for letter in 'Facebook' :\n",
        "  # break the loop as soon it sees 'o'\n",
        "  if letter == 'o' :\n",
        "    break\n",
        "  print(letter)\n",
        "\n"
      ],
      "execution_count": 8,
      "outputs": [
        {
          "output_type": "stream",
          "text": [
            "F\n",
            "a\n",
            "c\n",
            "e\n",
            "b\n"
          ],
          "name": "stdout"
        }
      ]
    },
    {
      "cell_type": "markdown",
      "metadata": {
        "id": "d13jRCHTCc8T",
        "colab_type": "text"
      },
      "source": [
        "**enumerate():**  is used to loop through the containers printing the index number along with the value present in that particular index."
      ]
    },
    {
      "cell_type": "code",
      "metadata": {
        "id": "lBqCwikACgv3",
        "colab_type": "code",
        "colab": {
          "base_uri": "https://localhost:8080/",
          "height": 84
        },
        "outputId": "a57f26b1-9749-4987-eb9a-b0615194b834"
      },
      "source": [
        "for key, value in enumerate(['Red', 'Green', 'Blue', 'Yello']): \n",
        "\tprint(key, value) \n"
      ],
      "execution_count": 10,
      "outputs": [
        {
          "output_type": "stream",
          "text": [
            "0 Red\n",
            "1 Green\n",
            "2 Blue\n",
            "3 Yello\n"
          ],
          "name": "stdout"
        }
      ]
    },
    {
      "cell_type": "markdown",
      "metadata": {
        "id": "RfMcrHqWC1gu",
        "colab_type": "text"
      },
      "source": [
        "**zip() :** is used to combine 2 similar containers(list-list or dict-dict) printing the values sequentially. The loop exists only till the smaller container ends"
      ]
    },
    {
      "cell_type": "code",
      "metadata": {
        "id": "35HNeTFZC4v2",
        "colab_type": "code",
        "colab": {
          "base_uri": "https://localhost:8080/",
          "height": 67
        },
        "outputId": "65fd66fc-2c3c-4806-b4e7-d6667e320a92"
      },
      "source": [
        "# initializing list \n",
        "questions = ['name', 'colour', 'shape'] \n",
        "answers = ['apple', 'red', 'a circle'] \n",
        "\n",
        "# using zip() to combine two containers \n",
        "# and print values \n",
        "for question, answer in zip(questions, answers): \n",
        "\tprint('What is your {0}? I am {1}.'.format(question, answer)) \n"
      ],
      "execution_count": 11,
      "outputs": [
        {
          "output_type": "stream",
          "text": [
            "What is your name? I am apple.\n",
            "What is your colour? I am red.\n",
            "What is your shape? I am a circle.\n"
          ],
          "name": "stdout"
        }
      ]
    },
    {
      "cell_type": "code",
      "metadata": {
        "id": "Gw_zc9ZxDTeC",
        "colab_type": "code",
        "colab": {
          "base_uri": "https://localhost:8080/",
          "height": 67
        },
        "outputId": "4346eedc-378e-4b8e-b5ec-0ec7f923dd45"
      },
      "source": [
        "dictionary = {1: 'Red', 2: 'Green', 3 : 'Blue'} \n",
        "\n",
        "# using items to print the dictionary key-value pair \n",
        "for key, value in dictionary.items(): \n",
        "\tprint(key, value) \n"
      ],
      "execution_count": 12,
      "outputs": [
        {
          "output_type": "stream",
          "text": [
            "1 Red\n",
            "2 Green\n",
            "3 Blue\n"
          ],
          "name": "stdout"
        }
      ]
    }
  ]
}