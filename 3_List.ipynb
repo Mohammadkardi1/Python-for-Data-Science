{
  "nbformat": 4,
  "nbformat_minor": 0,
  "metadata": {
    "colab": {
      "name": "training.ipynb",
      "provenance": [],
      "collapsed_sections": []
    },
    "kernelspec": {
      "name": "python3",
      "display_name": "Python 3"
    },
    "accelerator": "GPU"
  },
  "cells": [
    {
      "cell_type": "markdown",
      "metadata": {
        "id": "WqSVfVdb0iRR",
        "colab_type": "text"
      },
      "source": [
        "# List\n",
        "Lists are just like the arrays, declared in other languages. Lists need not be homogeneous always which makes it a most powerful tool in Python. A single list may contain DataTypes like Integers, Strings, as well as Objects. Lists are mutable, and hence, they can be altered even after their creation.\n",
        "\n",
        "List in Python are ordered and have a definite count. The elements in a list are indexed according to a definite sequence and the indexing of a list is done with 0 being the first index. Each element in the list has its definite place in the list, which allows duplicating of elements in the list, with each element having its own distinct place and credibility."
      ]
    },
    {
      "cell_type": "markdown",
      "metadata": {
        "id": "LtBI6_Gw05Zv",
        "colab_type": "text"
      },
      "source": [
        "# Creating a List\n",
        "Lists in Python can be created by just placing the sequence inside the square brackets[]."
      ]
    },
    {
      "cell_type": "code",
      "metadata": {
        "id": "QvhnWUAN1y0j",
        "colab_type": "code",
        "colab": {
          "base_uri": "https://localhost:8080/",
          "height": 50
        },
        "outputId": "9c72fc46-9a27-48de-f255-8b72bd56b883"
      },
      "source": [
        "# Creating a List \n",
        "List = [] \n",
        "print(\"Intial blank List: \") \n",
        "print(List) "
      ],
      "execution_count": 1,
      "outputs": [
        {
          "output_type": "stream",
          "text": [
            "Intial blank List: \n",
            "[]\n"
          ],
          "name": "stdout"
        }
      ]
    },
    {
      "cell_type": "code",
      "metadata": {
        "id": "jtTwtVKc10_Z",
        "colab_type": "code",
        "colab": {
          "base_uri": "https://localhost:8080/",
          "height": 50
        },
        "outputId": "6f862f6f-e3bc-43c3-caac-af676c3b7fa4"
      },
      "source": [
        "# Creating a List with  \n",
        "# the use of Numbers  \n",
        "List = [1, 2, 4, 4, 3, 3, 3, 6, 5] \n",
        "print(\"List with the use of Numbers: \") \n",
        "print(List) "
      ],
      "execution_count": 2,
      "outputs": [
        {
          "output_type": "stream",
          "text": [
            "List with the use of Numbers: \n",
            "[1, 2, 4, 4, 3, 3, 3, 6, 5]\n"
          ],
          "name": "stdout"
        }
      ]
    },
    {
      "cell_type": "code",
      "metadata": {
        "id": "IY-3QM8P2DHO",
        "colab_type": "code",
        "colab": {
          "base_uri": "https://localhost:8080/",
          "height": 50
        },
        "outputId": "dbe5c3c4-6aa7-4bda-d760-2683cc3b4755"
      },
      "source": [
        "# Creating a List with  \n",
        "# the use of a String \n",
        "List = ['Facebook' , 'whatsApp' , 'Instagram'] \n",
        "print(\"List with the use of String: \") \n",
        "print(List)"
      ],
      "execution_count": 3,
      "outputs": [
        {
          "output_type": "stream",
          "text": [
            "List with the use of String: \n",
            "['Facebook', 'whatsApp', 'Instagram']\n"
          ],
          "name": "stdout"
        }
      ]
    },
    {
      "cell_type": "code",
      "metadata": {
        "id": "DVrMTc7w2evd",
        "colab_type": "code",
        "colab": {
          "base_uri": "https://localhost:8080/",
          "height": 84
        },
        "outputId": "75248bea-e427-428c-dfac-a02300517825"
      },
      "source": [
        "# Creating a List with  \n",
        "# mixed type of values \n",
        "\n",
        "List = [1, 2, 'Facebook', 4, 'whatsApp', 6, 'Instagram'] \n",
        "print(\"List with the use of Mixed Values: \") \n",
        "print(List) \n",
        "print(List[0])  \n",
        "print(List[2])"
      ],
      "execution_count": 4,
      "outputs": [
        {
          "output_type": "stream",
          "text": [
            "List with the use of Mixed Values: \n",
            "[1, 2, 'Facebook', 4, 'whatsApp', 6, 'Instagram']\n",
            "1\n",
            "Facebook\n"
          ],
          "name": "stdout"
        }
      ]
    },
    {
      "cell_type": "code",
      "metadata": {
        "id": "Jwt0cLgF3nJS",
        "colab_type": "code",
        "colab": {
          "base_uri": "https://localhost:8080/",
          "height": 50
        },
        "outputId": "f607efca-3580-4252-fc17-c84402e6e2f5"
      },
      "source": [
        "# Creating a Multi-Dimensional List  \n",
        "\n",
        "List = [['Facebook', 'whatsApp'] , ['Instagram']] \n",
        "print(\"Multi-Dimensional List: \") \n",
        "print(List) "
      ],
      "execution_count": 5,
      "outputs": [
        {
          "output_type": "stream",
          "text": [
            "Multi-Dimensional List: \n",
            "[['Facebook', 'whatsApp'], ['Instagram']]\n"
          ],
          "name": "stdout"
        }
      ]
    },
    {
      "cell_type": "markdown",
      "metadata": {
        "id": "Fv6pDFPy22Nn",
        "colab_type": "text"
      },
      "source": [
        "# Adding Elements to a List\n",
        "\n",
        "**Using append() method**\n",
        "\n",
        "Elements can be added to the List by using built-in append() function. Only one element at a time can be added to the list by using append() method, for addition of multiple elements with the append() method, loops are used."
      ]
    },
    {
      "cell_type": "code",
      "metadata": {
        "id": "UBt3ouvw3Lxn",
        "colab_type": "code",
        "colab": {
          "base_uri": "https://localhost:8080/",
          "height": 202
        },
        "outputId": "9c1beb5e-187e-4623-e183-16f302fc4a0d"
      },
      "source": [
        "# Creating a List \n",
        "List = [] \n",
        "print(\"Initial blank List: \") \n",
        "print(List) \n",
        "\n",
        "# Addition of Elements \n",
        "# in the List \n",
        "List.append(1) \n",
        "List.append(2) \n",
        "List.append(4) \n",
        "print(\"\\nList after Addition of Three elements: \") \n",
        "print(List) \n",
        "\n",
        "# Adding elements to the List \n",
        "# using Iterator \n",
        "for i in range(1, 4): \n",
        "\tList.append(i) \n",
        "print(\"\\nList after Addition of elements from 1-3: \") \n",
        "print(List) \n",
        "\n",
        "\n",
        "# Addition of List to a List \n",
        "List2 = ['Facebook', 'Instagram'] \n",
        "List.append(List2) \n",
        "print(\"\\nList after Addition of a List: \") \n",
        "print(List) \n"
      ],
      "execution_count": 6,
      "outputs": [
        {
          "output_type": "stream",
          "text": [
            "Initial blank List: \n",
            "[]\n",
            "\n",
            "List after Addition of Three elements: \n",
            "[1, 2, 4]\n",
            "\n",
            "List after Addition of elements from 1-3: \n",
            "[1, 2, 4, 1, 2, 3]\n",
            "\n",
            "List after Addition of a List: \n",
            "[1, 2, 4, 1, 2, 3, ['Facebook', 'Instagram']]\n"
          ],
          "name": "stdout"
        }
      ]
    },
    {
      "cell_type": "markdown",
      "metadata": {
        "id": "rD3ihVbM3-Hr",
        "colab_type": "text"
      },
      "source": [
        "**Using insert() method**\n",
        "\n",
        "append() method only works for addition of elements at the end of the List, for addition of element at the desired position, insert() method is used. Unlike append() which takes only one argument, insert() method requires two arguments(position, value)."
      ]
    },
    {
      "cell_type": "code",
      "metadata": {
        "id": "U-jpSt5S4ENB",
        "colab_type": "code",
        "colab": {
          "base_uri": "https://localhost:8080/",
          "height": 101
        },
        "outputId": "85bba620-4a55-4ae5-a8a7-eb48e67bf64b"
      },
      "source": [
        "# Creating a List \n",
        "List = [1,2,3,4] \n",
        "print(\"Initial List: \") \n",
        "print(List) \n",
        "\n",
        "# Addition of Element at \n",
        "# specific Position \n",
        "# (using Insert Method) \n",
        "List.insert(3, 12) \n",
        "List.insert(2, 'Facebook') \n",
        "print(\"\\nList after performing Insert Operation: \") \n",
        "print(List) \n"
      ],
      "execution_count": 7,
      "outputs": [
        {
          "output_type": "stream",
          "text": [
            "Initial List: \n",
            "[1, 2, 3, 4]\n",
            "\n",
            "List after performing Insert Operation: \n",
            "[1, 2, 'Facebook', 3, 12, 4]\n"
          ],
          "name": "stdout"
        }
      ]
    },
    {
      "cell_type": "markdown",
      "metadata": {
        "id": "3CpG4CDg4wpR",
        "colab_type": "text"
      },
      "source": [
        "**Using extend() method**\n",
        "\n",
        "Other than append() and insert() methods, there’s one more method for Addition of elements, extend(), this method is used to add multiple elements at the same time at the end of the list."
      ]
    },
    {
      "cell_type": "code",
      "metadata": {
        "id": "KXPlVL1F4zoB",
        "colab_type": "code",
        "colab": {
          "base_uri": "https://localhost:8080/",
          "height": 101
        },
        "outputId": "1676d9cc-a3c8-4655-b2b8-095f9d56d5de"
      },
      "source": [
        "# Creating a List \n",
        "List = [1,2,3,4] \n",
        "print(\"Initial List: \") \n",
        "print(List) \n",
        "\n",
        "# Addition of multiple elements \n",
        "# to the List at the end \n",
        "# (using Extend Method) \n",
        "List.extend([8, 'Facebook', 'WhatsApp']) \n",
        "print(\"\\nList after performing Extend Operation: \") \n",
        "print(List) \n"
      ],
      "execution_count": 8,
      "outputs": [
        {
          "output_type": "stream",
          "text": [
            "Initial List: \n",
            "[1, 2, 3, 4]\n",
            "\n",
            "List after performing Extend Operation: \n",
            "[1, 2, 3, 4, 8, 'Facebook', 'WhatsApp']\n"
          ],
          "name": "stdout"
        }
      ]
    },
    {
      "cell_type": "markdown",
      "metadata": {
        "id": "XH-Ka0Nl5Raq",
        "colab_type": "text"
      },
      "source": [
        "# Accessing elements from the List\n",
        "\n",
        "\n",
        "In order to access the list items refer to the index number.Use the index operator [ ] to access an item in a list.The index must be an integer.Nested list are accessed using nested indexing."
      ]
    },
    {
      "cell_type": "code",
      "metadata": {
        "id": "m21I8DDE5Tp5",
        "colab_type": "code",
        "colab": {
          "base_uri": "https://localhost:8080/",
          "height": 151
        },
        "outputId": "56095607-8209-4a80-e99f-29bdfaab4668"
      },
      "source": [
        "# Creating a List with \n",
        "# the use of multiple values \n",
        "List = ['Facebook' , 'whatsApp' , 'Instagram'] \n",
        "\n",
        "# accessing a element from the \n",
        "# list using index number \n",
        "print(\"\\nAccessing a element from the list\") \n",
        "print(List[0]) \n",
        "print(List[2]) \n",
        "\n",
        "# Creating a Multi-Dimensional List \n",
        "# (By Nesting a list inside a List) \n",
        "List = [['Facebook', 'whatsApp'] , ['Instagram']] \n",
        "\n",
        "# accessing a element from the \n",
        "# Multi-Dimensional List using \n",
        "# index number \n",
        "print(\"\\nAcessing a element from a Multi-Dimensional list\") \n",
        "print(List[0][1]) \n",
        "print(List[1][0]) \n"
      ],
      "execution_count": 9,
      "outputs": [
        {
          "output_type": "stream",
          "text": [
            "\n",
            "Accessing a element from the list\n",
            "Facebook\n",
            "Instagram\n",
            "\n",
            "Acessing a element from a Multi-Dimensional list\n",
            "whatsApp\n",
            "Instagram\n"
          ],
          "name": "stdout"
        }
      ]
    },
    {
      "cell_type": "markdown",
      "metadata": {
        "id": "L0pLmIbe5z1T",
        "colab_type": "text"
      },
      "source": [
        "# Negative indexing\n",
        "\n",
        "In Python, negative sequence indexes represent positions from the end of the array. Instead of having to compute the offset as in List[len(List)-3], it is enough to just write List[-3]. Negative indexing means beginning from the end, -1 refers to the last item, -2 refers to the second last item etc."
      ]
    },
    {
      "cell_type": "code",
      "metadata": {
        "id": "DGM8pjx953Jy",
        "colab_type": "code",
        "colab": {
          "base_uri": "https://localhost:8080/",
          "height": 67
        },
        "outputId": "b28d1364-4fed-44d2-b0e9-a8af34de4c95"
      },
      "source": [
        "List = [1, 2, 'Facebook', 4, 'Whatsapp', 6, 'Instagram'] \n",
        "\n",
        "# accessing a element using \n",
        "# negative indexing \n",
        "print(\"Acessing element using negative indexing\") \n",
        "\n",
        "# print the last element of list \n",
        "print(List[-1]) \n",
        "\n",
        "# print the third last element of list \n",
        "print(List[-3]) \n"
      ],
      "execution_count": 10,
      "outputs": [
        {
          "output_type": "stream",
          "text": [
            "Acessing element using negative indexing\n",
            "Instagram\n",
            "Whatsapp\n"
          ],
          "name": "stdout"
        }
      ]
    },
    {
      "cell_type": "markdown",
      "metadata": {
        "id": "dczI0G-m6dxU",
        "colab_type": "text"
      },
      "source": [
        "# Removing Elements from the List\n",
        "\n",
        "Elements can be removed from the List by using built-in remove() function but an Error arises if element doesn’t exist in the set. Remove() method only removes one element at a time.\n",
        "\n",
        "**Note –** Remove method in List will only remove the first occurrence of the searched element."
      ]
    },
    {
      "cell_type": "code",
      "metadata": {
        "id": "uZf0ArI86tiV",
        "colab_type": "code",
        "colab": {
          "base_uri": "https://localhost:8080/",
          "height": 101
        },
        "outputId": "8ac00670-3ae1-44b8-9f10-5476b5caa206"
      },
      "source": [
        "# Creating a List \n",
        "List = [ 5 , 22 , 8 , 2 , 6 , 7 , 22 , 8 , 9 ]\n",
        "print(\"Intial List: \") \n",
        "print(List) \n",
        "\n",
        "# Removing elements from List \n",
        "# using Remove() method \n",
        "List.remove(22) \n",
        "List.remove(6) \n",
        "print(\"\\nList after Removal of two elements: \") \n",
        "print(List) \n",
        "\n"
      ],
      "execution_count": 11,
      "outputs": [
        {
          "output_type": "stream",
          "text": [
            "Intial List: \n",
            "[5, 22, 8, 2, 6, 7, 22, 8, 9]\n",
            "\n",
            "List after Removal of two elements: \n",
            "[5, 8, 2, 7, 22, 8, 9]\n"
          ],
          "name": "stdout"
        }
      ]
    },
    {
      "cell_type": "markdown",
      "metadata": {
        "id": "KCsbqStA7SNJ",
        "colab_type": "text"
      },
      "source": [
        "# Using pop() method\n",
        "\n",
        "Pop() function can also be used to remove and return an element from the set, but by default it removes only the last element of the set, to remove element from a specific position of the List, index of the element is passed as an argument to the pop() method."
      ]
    },
    {
      "cell_type": "code",
      "metadata": {
        "id": "zqKTicEX7UZd",
        "colab_type": "code",
        "colab": {
          "base_uri": "https://localhost:8080/",
          "height": 118
        },
        "outputId": "90026061-8710-47aa-d649-fdb45592885a"
      },
      "source": [
        "List = [1 , 2 , 3 , 4 , 5] \n",
        "\n",
        "# Removing element from the \n",
        "# Set using the pop() method \n",
        "List.pop() \n",
        "print(\"\\nList after popping an element: \") \n",
        "print(List) \n",
        "\n",
        "# Removing element at a \n",
        "# specific location from the \n",
        "# Set using the pop() method \n",
        "List.pop(2) \n",
        "print(\"\\nList after popping a specific element: \") \n",
        "print(List) \n"
      ],
      "execution_count": 12,
      "outputs": [
        {
          "output_type": "stream",
          "text": [
            "\n",
            "List after popping an element: \n",
            "[1, 2, 3, 4]\n",
            "\n",
            "List after popping a specific element: \n",
            "[1, 2, 4]\n"
          ],
          "name": "stdout"
        }
      ]
    },
    {
      "cell_type": "markdown",
      "metadata": {
        "id": "oNoYInEg7sY7",
        "colab_type": "text"
      },
      "source": [
        "#Slicing of a List\n",
        "\n",
        "In Python List, there are multiple ways to print the whole List with all the elements, but to print a specific range of elements from the list, we use Slice operation. Slice operation is performed on Lists with the use of colon(:)."
      ]
    },
    {
      "cell_type": "code",
      "metadata": {
        "id": "nqm3WH4d7sjC",
        "colab_type": "code",
        "colab": {
          "base_uri": "https://localhost:8080/",
          "height": 202
        },
        "outputId": "5458fc17-f97d-4662-aabf-921143364d25"
      },
      "source": [
        "# Creating a List \n",
        "List = ['G','E','E','K','S','F', \n",
        "\t\t'O','R','G','E','E','K','S'] \n",
        "print(\"Intial List: \") \n",
        "print(List) \n",
        "\n",
        "# Print elements of a range \n",
        "# using Slice operation \n",
        "Sliced_List = List[3:8] \n",
        "print(\"\\nSlicing elements in a range 3-8: \") \n",
        "print(Sliced_List) \n",
        "\n",
        "# Print elements from a \n",
        "# pre-defined point to end \n",
        "Sliced_List = List[5:] \n",
        "print(\"\\nElements sliced from 5th \"\n",
        "\t\"element till the end: \") \n",
        "print(Sliced_List) \n",
        "\n",
        "# Printing elements from \n",
        "# beginning till end \n",
        "Sliced_List = List[:] \n",
        "print(\"\\nPrinting all elements using slice operation: \") \n",
        "print(Sliced_List) \n"
      ],
      "execution_count": 13,
      "outputs": [
        {
          "output_type": "stream",
          "text": [
            "Intial List: \n",
            "['G', 'E', 'E', 'K', 'S', 'F', 'O', 'R', 'G', 'E', 'E', 'K', 'S']\n",
            "\n",
            "Slicing elements in a range 3-8: \n",
            "['K', 'S', 'F', 'O', 'R']\n",
            "\n",
            "Elements sliced from 5th element till the end: \n",
            "['F', 'O', 'R', 'G', 'E', 'E', 'K', 'S']\n",
            "\n",
            "Printing all elements using slice operation: \n",
            "['G', 'E', 'E', 'K', 'S', 'F', 'O', 'R', 'G', 'E', 'E', 'K', 'S']\n"
          ],
          "name": "stdout"
        }
      ]
    },
    {
      "cell_type": "markdown",
      "metadata": {
        "id": "Rjmn44KK8DPb",
        "colab_type": "text"
      },
      "source": [
        "**Negative index List slicing**"
      ]
    },
    {
      "cell_type": "code",
      "metadata": {
        "id": "vD87G2j48DZ4",
        "colab_type": "code",
        "colab": {
          "base_uri": "https://localhost:8080/",
          "height": 151
        },
        "outputId": "59e76de5-20e8-4ae4-e585-dcb42af21bf5"
      },
      "source": [
        "# Creating a List \n",
        "List = ['G','E','E','K','S','F', \n",
        "\t\t'O','R','G','E','E','K','S'] \n",
        "print(\"Initial List: \") \n",
        "print(List) \n",
        "\n",
        "# Print elements from beginning \n",
        "# to a pre-defined point using Slice \n",
        "Sliced_List = List[:-6] \n",
        "print(\"\\nElements sliced till 6th element from last: \") \n",
        "print(Sliced_List) \n",
        "\n",
        "# Print elements of a range \n",
        "# using negative index List slicing \n",
        "Sliced_List = List[-6:-1] \n",
        "print(\"\\nElements sliced from index -6 to -1\") \n",
        "print(Sliced_List) "
      ],
      "execution_count": 14,
      "outputs": [
        {
          "output_type": "stream",
          "text": [
            "Initial List: \n",
            "['G', 'E', 'E', 'K', 'S', 'F', 'O', 'R', 'G', 'E', 'E', 'K', 'S']\n",
            "\n",
            "Elements sliced till 6th element from last: \n",
            "['G', 'E', 'E', 'K', 'S', 'F', 'O']\n",
            "\n",
            "Elements sliced from index -6 to -1\n",
            "['R', 'G', 'E', 'E', 'K']\n"
          ],
          "name": "stdout"
        }
      ]
    },
    {
      "cell_type": "markdown",
      "metadata": {
        "id": "Xt4bHHDo8uEw",
        "colab_type": "text"
      },
      "source": [
        "# copy() method\n",
        "\n",
        "Sometimes, there is a need to reuse any object, hence copy methods are always of a great utility. "
      ]
    },
    {
      "cell_type": "code",
      "metadata": {
        "id": "AAzBY4VX84Ak",
        "colab_type": "code",
        "colab": {
          "base_uri": "https://localhost:8080/",
          "height": 67
        },
        "outputId": "8259f875-b066-4a03-8142-b49ee9fca716"
      },
      "source": [
        "# Initializing list \n",
        "lis1 = [ 1, 2, 3, 4 ] \n",
        "\n",
        "# Using copy() to create a shallow copy \n",
        "lis2 = lis1.copy() \n",
        "\n",
        "# Printing new list \n",
        "print (\"The new list created is : \" + str(lis2)) \n",
        "\n",
        "# Adding new element to new list \n",
        "lis2.append(5) \n",
        "\n",
        "# Printing lists after adding new element \n",
        "# No change in old list \n",
        "print (\"The new list after adding new element : \" + str(lis2)) \n",
        "print (\"The old list after adding new element to new list : \" + str(lis1)) \n"
      ],
      "execution_count": 15,
      "outputs": [
        {
          "output_type": "stream",
          "text": [
            "The new list created is : [1, 2, 3, 4]\n",
            "The new list after adding new element : [1, 2, 3, 4, 5]\n",
            "The old list after adding new element to new list : [1, 2, 3, 4]\n"
          ],
          "name": "stdout"
        }
      ]
    },
    {
      "cell_type": "markdown",
      "metadata": {
        "id": "mYRA4W5A9MAz",
        "colab_type": "text"
      },
      "source": [
        "# len()\tmethod\n",
        "\n",
        "Returns length of the list or size of the list"
      ]
    },
    {
      "cell_type": "code",
      "metadata": {
        "id": "-1952uLR9MOL",
        "colab_type": "code",
        "colab": {
          "base_uri": "https://localhost:8080/",
          "height": 34
        },
        "outputId": "44c32f0e-cb7f-49c9-9102-75cce97be77f"
      },
      "source": [
        "# Initializing list \n",
        "list1 = [ 1, 2, 3, 4 , 5] \n",
        "\n",
        "print(len(list1))"
      ],
      "execution_count": 16,
      "outputs": [
        {
          "output_type": "stream",
          "text": [
            "5\n"
          ],
          "name": "stdout"
        }
      ]
    }
  ]
}