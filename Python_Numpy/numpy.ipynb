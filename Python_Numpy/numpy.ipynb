{
  "nbformat": 4,
  "nbformat_minor": 0,
  "metadata": {
    "colab": {
      "name": "numpy.ipynb",
      "provenance": [],
      "collapsed_sections": []
    },
    "kernelspec": {
      "name": "python3",
      "display_name": "Python 3"
    },
    "accelerator": "GPU"
  },
  "cells": [
    {
      "cell_type": "markdown",
      "metadata": {
        "id": "ROm1PsPOVjD1",
        "colab_type": "text"
      },
      "source": [
        "#1. Introduction to Numpy\n",
        "Numpy is the most basic and a powerful package for working with data in python.\n",
        "\n",
        "\n",
        "If you are going to work on data analysis or machine learning projects, then having a solid understanding of numpy is nearly mandatory.\n",
        "\n",
        "\n",
        "Because other packages for data analysis (like pandas) is built on top of numpy and the scikit-learn package which is used to build machine learning applications works heavily with numpy as well.\n",
        "\n",
        "So what does numpy provide?\n",
        "\n",
        "At the core, numpy provides the excellent ndarray objects, short for n-dimensional arrays.\n",
        "\n",
        "In a ‘ndarray’ object, aka ‘array’, you can store multiple items of the same data type. It is the facilities around the array object that makes numpy so convenient for performing math and data manipulations.\n",
        "\n",
        "You might wonder, ‘I can store numbers and other objects in a python list itself and do all sorts of computations and manipulations through list comprehensions, for-loops etc. What do I need a numpy array for?’\n",
        "\n",
        "Well, there are very significant advantages of using numpy arrays overs lists.\n",
        "\n",
        "To understand this, let’s first see how to create a numpy array."
      ]
    },
    {
      "cell_type": "markdown",
      "metadata": {
        "id": "z_YHjJbbWBDf",
        "colab_type": "text"
      },
      "source": [
        "#2. How to create a numpy array?\n",
        "Arrays in Numpy can be created by multiple ways, with various number of Ranks, defining the size of the Array. Arrays can also be created with the use of various data types such as lists, tuples, etc. "
      ]
    },
    {
      "cell_type": "code",
      "metadata": {
        "id": "7F-vsBKeV5GC",
        "colab_type": "code",
        "outputId": "fc6e55a2-2af4-4d68-ee1b-5033e7115dd6",
        "colab": {
          "base_uri": "https://localhost:8080/",
          "height": 118
        }
      },
      "source": [
        "# Create an 1d array from a list\n",
        "import numpy as np\n",
        "list1 = [0,1,2,3,4]\n",
        "arr1d = np.array(list1)\n",
        "\n",
        "# Print the array and its type\n",
        "print( type(arr1d))\n",
        "print('\\n' , arr1d)\n",
        "\n",
        "# Creating an array from tuple\n",
        "arr = np.array((1, 3, 2))\n",
        "print(\"\\nArray created using \"\n",
        "      \"passed tuple:\\n\", arr)"
      ],
      "execution_count": 1,
      "outputs": [
        {
          "output_type": "stream",
          "text": [
            "<class 'numpy.ndarray'>\n",
            "\n",
            " [0 1 2 3 4]\n",
            "\n",
            "Array created using passed tuple:\n",
            " [1 3 2]\n"
          ],
          "name": "stdout"
        }
      ]
    },
    {
      "cell_type": "markdown",
      "metadata": {
        "id": "QOj8B5IPb-8a",
        "colab_type": "text"
      },
      "source": [
        "The key difference between an array and a list is, arrays are designed to handle vectorized operations while a python list is not.\n",
        "\n",
        "That means, if you apply a function it is performed on every item in the array, rather than on the whole array object.\n",
        "\n",
        "Let’s suppose you want to add the number 2 to every item in the list. The intuitive way to do it is something like this"
      ]
    },
    {
      "cell_type": "code",
      "metadata": {
        "id": "4KJgQhzCcDre",
        "colab_type": "code",
        "colab": {}
      },
      "source": [
        "list1 + 2  # error"
      ],
      "execution_count": 0,
      "outputs": []
    },
    {
      "cell_type": "markdown",
      "metadata": {
        "id": "Cwvy_m8CcHve",
        "colab_type": "text"
      },
      "source": [
        "That was not possible with a list. But you can do that on a ndarray."
      ]
    },
    {
      "cell_type": "code",
      "metadata": {
        "id": "ixTIBQ0KcGzV",
        "colab_type": "code",
        "outputId": "9746b657-51d7-4d5e-aed7-bc1e3ceb2675",
        "colab": {
          "base_uri": "https://localhost:8080/",
          "height": 34
        }
      },
      "source": [
        "# Add 2 to each element of arr1d\n",
        "arr1d + 2\n"
      ],
      "execution_count": 3,
      "outputs": [
        {
          "output_type": "execute_result",
          "data": {
            "text/plain": [
              "array([2, 3, 4, 5, 6])"
            ]
          },
          "metadata": {
            "tags": []
          },
          "execution_count": 3
        }
      ]
    },
    {
      "cell_type": "markdown",
      "metadata": {
        "id": "b1aMMdaKcdBh",
        "colab_type": "text"
      },
      "source": [
        "You may also specify the datatype by setting the dtype argument. Some of the most commonly used numpy dtypes are: 'float', 'int', 'bool', 'str' and 'object'.\n",
        "\n",
        "To control the memory allocations you may choose to use one of ‘float32’, ‘float64’, ‘int8’, ‘int16’ or ‘int32’."
      ]
    },
    {
      "cell_type": "code",
      "metadata": {
        "id": "uZ__2D84cfSi",
        "colab_type": "code",
        "outputId": "b2fc3b98-e9a2-4eaf-c65f-91edbb42733d",
        "colab": {
          "base_uri": "https://localhost:8080/",
          "height": 34
        }
      },
      "source": [
        "# Create a float 2d array\n",
        "arr2d_f = np.array(list1, dtype='float')\n",
        "print(arr2d_f)"
      ],
      "execution_count": 2,
      "outputs": [
        {
          "output_type": "stream",
          "text": [
            "[0. 1. 2. 3. 4.]\n"
          ],
          "name": "stdout"
        }
      ]
    },
    {
      "cell_type": "markdown",
      "metadata": {
        "id": "yedB6NDTcn-4",
        "colab_type": "text"
      },
      "source": [
        "The decimal point after each number is indicative of the float datatype. You can also convert it to a different datatype using the astype method.\n",
        "\n",
        "\n"
      ]
    },
    {
      "cell_type": "code",
      "metadata": {
        "id": "KkPV8OlDcrpl",
        "colab_type": "code",
        "outputId": "0db06af5-b8f9-4006-f0ba-5a466ef19fbc",
        "colab": {
          "base_uri": "https://localhost:8080/",
          "height": 34
        }
      },
      "source": [
        "# Convert to 'int' datatype\n",
        "arr2d_f.astype('int')"
      ],
      "execution_count": 0,
      "outputs": [
        {
          "output_type": "execute_result",
          "data": {
            "text/plain": [
              "array([0, 1, 2, 3, 4])"
            ]
          },
          "metadata": {
            "tags": []
          },
          "execution_count": 10
        }
      ]
    },
    {
      "cell_type": "markdown",
      "metadata": {
        "id": "9MHN5Cwac95J",
        "colab_type": "text"
      },
      "source": [
        "A numpy array must have all items to be of the same data type, unlike lists. This is another significant difference.\n",
        "\n",
        "However, if you are uncertain about what datatype your array will hold or if you want to hold characters and numbers in the same array, you can set the dtype as 'object'."
      ]
    },
    {
      "cell_type": "code",
      "metadata": {
        "id": "IwY8vDioc9Tf",
        "colab_type": "code",
        "outputId": "d8c2c305-64f4-480a-cb71-4d7eab4ab72c",
        "colab": {
          "base_uri": "https://localhost:8080/",
          "height": 34
        }
      },
      "source": [
        "# Create an object array to hold numbers as well as strings\n",
        "arr1d_obj = np.array([1, 'a'], dtype='object')\n",
        "arr1d_obj"
      ],
      "execution_count": 4,
      "outputs": [
        {
          "output_type": "execute_result",
          "data": {
            "text/plain": [
              "array([1, 'a'], dtype=object)"
            ]
          },
          "metadata": {
            "tags": []
          },
          "execution_count": 4
        }
      ]
    },
    {
      "cell_type": "markdown",
      "metadata": {
        "id": "EWQ6vQMJdVxG",
        "colab_type": "text"
      },
      "source": [
        "Finally, you can always convert an array back to a python list using tolist().\n",
        "\n"
      ]
    },
    {
      "cell_type": "code",
      "metadata": {
        "id": "LYg6pikVdYLP",
        "colab_type": "code",
        "outputId": "fb8cbb6e-da05-4231-9caf-dd0072cdc46a",
        "colab": {
          "base_uri": "https://localhost:8080/",
          "height": 34
        }
      },
      "source": [
        "# Convert an array back to a list\n",
        "arr1d_obj.tolist()"
      ],
      "execution_count": 5,
      "outputs": [
        {
          "output_type": "execute_result",
          "data": {
            "text/plain": [
              "[1, 'a']"
            ]
          },
          "metadata": {
            "tags": []
          },
          "execution_count": 5
        }
      ]
    },
    {
      "cell_type": "markdown",
      "metadata": {
        "id": "E8IMYM7sdhEM",
        "colab_type": "text"
      },
      "source": [
        "\n",
        "\n",
        "```\n",
        "# This is formatted as code\n",
        "```\n",
        "\n",
        "To summarise, the main differences with python lists are:\n",
        "\n",
        "\n",
        "1.   Arrays support vectorised operations, while lists don’t.\n",
        "2.   Once an array is created, you cannot change its size. You will have to create a new array or overwrite the existing one.\n",
        "4.   Every array has one and only one dtype. All items in it should be of that dtype.\n",
        "5.   An equivalent numpy array occupies much less space than a python list of lists.\n",
        "\n",
        "\n",
        "\n"
      ]
    },
    {
      "cell_type": "markdown",
      "metadata": {
        "id": "eyqTaMQjd8EZ",
        "colab_type": "text"
      },
      "source": [
        "#3. How to inspect the size and shape of a numpy array?\n",
        "\n",
        "<li>If it is a 1D or a 2D array or more. (ndim)</li>\n",
        "\n",
        "<li>How many items are present in each dimension (shape)</li>\n",
        "\n",
        "<li>What is its datatype (dtype)</li>\n",
        "\n",
        "<li>What is the total number of items in it (size)</li>\n"
      ]
    },
    {
      "cell_type": "code",
      "metadata": {
        "id": "WAHSg5_ZeOaT",
        "colab_type": "code",
        "outputId": "75ea7d88-23d1-4bfd-c4b2-c43532c69d26",
        "colab": {
          "base_uri": "https://localhost:8080/",
          "height": 185
        }
      },
      "source": [
        "# Creating a rank 2 Array\n",
        "arr2 = np.array([[1, 2, 3] , [4 , 5 , 6]])\n",
        "print(arr2)\n",
        "\n",
        "# shape\n",
        "print('\\nShape: ', arr2.shape)\n",
        "\n",
        "# dtype\n",
        "print('\\nDatatype: ', arr2.dtype)\n",
        "\n",
        "# size\n",
        "print('\\nSize: ', arr2.size)\n",
        "\n",
        "# ndim\n",
        "print('\\nNum Dimensions: ', arr2.ndim)"
      ],
      "execution_count": 8,
      "outputs": [
        {
          "output_type": "stream",
          "text": [
            "[[1 2 3]\n",
            " [4 5 6]]\n",
            "\n",
            "Shape:  (2, 3)\n",
            "\n",
            "Datatype:  int64\n",
            "\n",
            "Size:  6\n",
            "\n",
            "Num Dimensions:  2\n"
          ],
          "name": "stdout"
        }
      ]
    },
    {
      "cell_type": "markdown",
      "metadata": {
        "id": "aPa9c4nmeeML",
        "colab_type": "text"
      },
      "source": [
        "#4. How to extract specific items from an array?\n",
        "\n",
        "You can extract specific portions on an array using indexing starting with 0, something similar to how you would do with python lists."
      ]
    },
    {
      "cell_type": "code",
      "metadata": {
        "id": "2it6whGdew5Y",
        "colab_type": "code",
        "colab": {
          "base_uri": "https://localhost:8080/",
          "height": 50
        },
        "outputId": "de0cd79b-797a-4f30-e0cb-98a5f8a7c424"
      },
      "source": [
        "# Extract the first 2 rows and columns\n",
        "arr2[:2, :2]"
      ],
      "execution_count": 9,
      "outputs": [
        {
          "output_type": "execute_result",
          "data": {
            "text/plain": [
              "array([[1, 2],\n",
              "       [4, 5]])"
            ]
          },
          "metadata": {
            "tags": []
          },
          "execution_count": 9
        }
      ]
    },
    {
      "cell_type": "markdown",
      "metadata": {
        "id": "eKzLzufKe45N",
        "colab_type": "text"
      },
      "source": [
        "Additionally, numpy arrays support boolean indexing.\n",
        "\n",
        "A boolean index array is of the same shape as the array-to-be-filtered and it contains only True and False values. The values corresponding to True positions are retained in the output."
      ]
    },
    {
      "cell_type": "code",
      "metadata": {
        "id": "ef7vn-mke6Tl",
        "colab_type": "code",
        "colab": {
          "base_uri": "https://localhost:8080/",
          "height": 50
        },
        "outputId": "577774c6-94a7-46ec-e9f9-93eac0fbf737"
      },
      "source": [
        "b = arr2 > 4\n",
        "b"
      ],
      "execution_count": 10,
      "outputs": [
        {
          "output_type": "execute_result",
          "data": {
            "text/plain": [
              "array([[False, False, False],\n",
              "       [False,  True,  True]])"
            ]
          },
          "metadata": {
            "tags": []
          },
          "execution_count": 10
        }
      ]
    },
    {
      "cell_type": "markdown",
      "metadata": {
        "id": "vLNP-3nPfPfa",
        "colab_type": "text"
      },
      "source": [
        "#4.2 How to represent missing values and infinite?\n",
        "Missing values can be represented using np.nan object, while np.inf represents infinite. Let’s place some in arr2d."
      ]
    },
    {
      "cell_type": "code",
      "metadata": {
        "id": "iZ0vGPNGfV4x",
        "colab_type": "code",
        "colab": {
          "base_uri": "https://localhost:8080/",
          "height": 67
        },
        "outputId": "26e2b0f8-d737-4903-b529-f27ee54631d8"
      },
      "source": [
        "# Insert a nan and an inf\n",
        "\n",
        "print('not a number',np.nan)\n",
        "\n",
        "\n",
        "print('\\ninfinite',np.nan)\n"
      ],
      "execution_count": 14,
      "outputs": [
        {
          "output_type": "stream",
          "text": [
            "not a number nan\n",
            "\n",
            "infinite nan\n"
          ],
          "name": "stdout"
        }
      ]
    },
    {
      "cell_type": "markdown",
      "metadata": {
        "id": "QrOCI-RLfbS6",
        "colab_type": "text"
      },
      "source": [
        "#4.3 How to compute mean, min, max on the ndarray?\n",
        "The ndarray has the respective methods to compute this for the whole array."
      ]
    },
    {
      "cell_type": "code",
      "metadata": {
        "id": "xUlxe-JFfczF",
        "colab_type": "code",
        "colab": {
          "base_uri": "https://localhost:8080/",
          "height": 134
        },
        "outputId": "0fec1a7c-a8b9-41a3-c6ab-8639b16261a8"
      },
      "source": [
        "# mean, max and min\n",
        "print(\"Mean value is: \", arr2.mean())\n",
        "\n",
        "print(\"\\nMax value is: \", arr2.max())\n",
        "\n",
        "print(\"\\nMin value is: \", arr2.min())\n",
        "\n",
        "print(\"\\nStandard Deviation is: \", arr2.std())"
      ],
      "execution_count": 16,
      "outputs": [
        {
          "output_type": "stream",
          "text": [
            "Mean value is:  3.5\n",
            "\n",
            "Max value is:  6\n",
            "\n",
            "Min value is:  1\n",
            "\n",
            "Standard Deviation is:  1.707825127659933\n"
          ],
          "name": "stdout"
        }
      ]
    },
    {
      "cell_type": "markdown",
      "metadata": {
        "id": "5D1VYTltf2I_",
        "colab_type": "text"
      },
      "source": [
        "#5. How to create a new array from an existing array?\n",
        "If you just assign a portion of an array to another array, the new array you just created actually refers to the parent array in memory.\n",
        "\n",
        "That means, if you make any changes to the new array, it will reflect in the parent array as well.\n",
        "\n",
        "So to avoid disturbing the parent array, you need to make a copy of it using copy(). All numpy arrays come with the copy() method."
      ]
    },
    {
      "cell_type": "code",
      "metadata": {
        "id": "XgSNs_HYf3f3",
        "colab_type": "code",
        "colab": {
          "base_uri": "https://localhost:8080/",
          "height": 50
        },
        "outputId": "5bd24485-87a8-4c33-abc6-c960f32a4ba6"
      },
      "source": [
        "# Assign portion of arr2 to arr2a. Doesn't really create a new array.\n",
        "arr2a = arr2[:2,:2]  \n",
        "arr2a[:1, :1] = 100  # 100 will reflect in arr2\n",
        "arr2"
      ],
      "execution_count": 17,
      "outputs": [
        {
          "output_type": "execute_result",
          "data": {
            "text/plain": [
              "array([[100,   2,   3],\n",
              "       [  4,   5,   6]])"
            ]
          },
          "metadata": {
            "tags": []
          },
          "execution_count": 17
        }
      ]
    },
    {
      "cell_type": "code",
      "metadata": {
        "id": "sj_gMuICf5u6",
        "colab_type": "code",
        "colab": {
          "base_uri": "https://localhost:8080/",
          "height": 50
        },
        "outputId": "d9d30aba-3562-4e60-c349-37ba94f67870"
      },
      "source": [
        "# Copy portion of arr2 to arr2b\n",
        "arr2b = arr2[:2, :2].copy()\n",
        "arr2b[:1, :1] = 101  # 101 will not reflect in arr2\n",
        "arr2"
      ],
      "execution_count": 18,
      "outputs": [
        {
          "output_type": "execute_result",
          "data": {
            "text/plain": [
              "array([[100,   2,   3],\n",
              "       [  4,   5,   6]])"
            ]
          },
          "metadata": {
            "tags": []
          },
          "execution_count": 18
        }
      ]
    },
    {
      "cell_type": "markdown",
      "metadata": {
        "id": "XkwqJmUkf_NZ",
        "colab_type": "text"
      },
      "source": [
        "#6. Reshaping and Flattening Multidimensional arrays\n",
        "Reshaping is changing the arrangement of items so that shape of the array changes while maintaining the same number of dimensions.\n",
        "\n",
        "Flattening, however, will convert a multi-dimensional array to a flat 1d array. And not any other shape.\n",
        "\n",
        "First, let’s reshape the arr2 array from 2×3 to 3×2 shape."
      ]
    },
    {
      "cell_type": "code",
      "metadata": {
        "id": "ZWln47lngGz4",
        "colab_type": "code",
        "colab": {
          "base_uri": "https://localhost:8080/",
          "height": 67
        },
        "outputId": "f28b465f-2232-4178-dff9-65fe2e3fe0bf"
      },
      "source": [
        "# Reshape a 3x4 array to 4x3 array\n",
        "arr2.reshape(3, 2)"
      ],
      "execution_count": 22,
      "outputs": [
        {
          "output_type": "execute_result",
          "data": {
            "text/plain": [
              "array([[100,   2],\n",
              "       [  3,   4],\n",
              "       [  5,   6]])"
            ]
          },
          "metadata": {
            "tags": []
          },
          "execution_count": 22
        }
      ]
    },
    {
      "cell_type": "markdown",
      "metadata": {
        "id": "9vA8Y-uRgusZ",
        "colab_type": "text"
      },
      "source": [
        "#6.1 What is the difference between flatten() and ravel()?\n",
        "There are 2 popular ways to implement flattening. That is using the flatten() method and the other using the ravel() method.\n",
        "\n",
        "The difference between ravel and flatten is, the new array created using ravel is actually a reference to the parent array. So, any changes to the new array will affect the parent as well. But is memory efficient since it does not create a copy."
      ]
    },
    {
      "cell_type": "code",
      "metadata": {
        "id": "OzSBLJuDgwTH",
        "colab_type": "code",
        "colab": {
          "base_uri": "https://localhost:8080/",
          "height": 34
        },
        "outputId": "23807d81-764c-43c7-be4b-52d1e5b53cfc"
      },
      "source": [
        "# Flatten it to a 1d array\n",
        "arr2.flatten()"
      ],
      "execution_count": 23,
      "outputs": [
        {
          "output_type": "execute_result",
          "data": {
            "text/plain": [
              "array([100,   2,   3,   4,   5,   6])"
            ]
          },
          "metadata": {
            "tags": []
          },
          "execution_count": 23
        }
      ]
    },
    {
      "cell_type": "code",
      "metadata": {
        "id": "gsBb8ZWGgzXh",
        "colab_type": "code",
        "colab": {
          "base_uri": "https://localhost:8080/",
          "height": 50
        },
        "outputId": "3dd9b67f-df3c-4d22-a2c3-8d71032bf0e4"
      },
      "source": [
        "# Changing the flattened array does not change parent\n",
        "b1 = arr2.flatten()  \n",
        "b1[0] = 100  # changing b1 does not affect arr2\n",
        "arr2"
      ],
      "execution_count": 24,
      "outputs": [
        {
          "output_type": "execute_result",
          "data": {
            "text/plain": [
              "array([[100,   2,   3],\n",
              "       [  4,   5,   6]])"
            ]
          },
          "metadata": {
            "tags": []
          },
          "execution_count": 24
        }
      ]
    },
    {
      "cell_type": "code",
      "metadata": {
        "id": "A9D3ZOMag2gw",
        "colab_type": "code",
        "colab": {
          "base_uri": "https://localhost:8080/",
          "height": 50
        },
        "outputId": "d9ce894e-6bd5-4155-8cd4-8bd135341acb"
      },
      "source": [
        "# Changing the raveled array changes the parent also.\n",
        "b2 = arr2.ravel()  \n",
        "b2[0] = 101  # changing b2 changes arr2 also\n",
        "arr2"
      ],
      "execution_count": 25,
      "outputs": [
        {
          "output_type": "execute_result",
          "data": {
            "text/plain": [
              "array([[101,   2,   3],\n",
              "       [  4,   5,   6]])"
            ]
          },
          "metadata": {
            "tags": []
          },
          "execution_count": 25
        }
      ]
    },
    {
      "cell_type": "markdown",
      "metadata": {
        "id": "VZRUngQjg5dy",
        "colab_type": "text"
      },
      "source": [
        "#7. How to create sequences, repetitions and random numbers using numpy?\n",
        "The np.arange function comes handy to create customised number sequences as ndarray."
      ]
    },
    {
      "cell_type": "code",
      "metadata": {
        "id": "tdxVh30zg9Lg",
        "colab_type": "code",
        "colab": {
          "base_uri": "https://localhost:8080/",
          "height": 134
        },
        "outputId": "26f24b31-65ff-4608-c126-752e862a09dc"
      },
      "source": [
        "# Lower limit is 0 be default\n",
        "print(np.arange(5))  \n",
        "\n",
        "# 0 to 9\n",
        "print('\\n' , np.arange(0, 10))  \n",
        "\n",
        "# 0 to 9 with step of 2\n",
        "print('\\n' , np.arange(0, 10, 2))  \n",
        "\n",
        "# 10 to 1, decreasing order\n",
        "print('\\n' , np.arange(10, 0, -1))"
      ],
      "execution_count": 34,
      "outputs": [
        {
          "output_type": "stream",
          "text": [
            "[0 1 2 3 4]\n",
            "\n",
            " [0 1 2 3 4 5 6 7 8 9]\n",
            "\n",
            " [0 2 4 6 8]\n",
            "\n",
            " [10  9  8  7  6  5  4  3  2  1]\n"
          ],
          "name": "stdout"
        }
      ]
    },
    {
      "cell_type": "markdown",
      "metadata": {
        "id": "9RjmlXQLhADk",
        "colab_type": "text"
      },
      "source": [
        "You can set the starting and end positions using np.arange. But if you are focussed on the number of items in the array you will have to manually calculate the appropriate step value.\n",
        "\n",
        "Say, you want to create an array of exactly 10 numbers between 1 and 50, Can you compute what would be the step value?\n",
        "\n",
        "Well, I am going to use the np.linspace instead."
      ]
    },
    {
      "cell_type": "code",
      "metadata": {
        "id": "UxgUtRSPhCJH",
        "colab_type": "code",
        "colab": {
          "base_uri": "https://localhost:8080/",
          "height": 34
        },
        "outputId": "ddd608cd-b170-4684-b52b-1c08b19001ba"
      },
      "source": [
        "# Start at 1 and end at 50\n",
        "np.linspace(start=1, stop=50, num=10, dtype=int)"
      ],
      "execution_count": 35,
      "outputs": [
        {
          "output_type": "execute_result",
          "data": {
            "text/plain": [
              "array([ 1,  6, 11, 17, 22, 28, 33, 39, 44, 50])"
            ]
          },
          "metadata": {
            "tags": []
          },
          "execution_count": 35
        }
      ]
    },
    {
      "cell_type": "markdown",
      "metadata": {
        "id": "WJCdmf85hKlQ",
        "colab_type": "text"
      },
      "source": [
        "The np.zeros and np.ones functions lets you create arrays of desired shape where all the items are either 0’s or 1’s."
      ]
    },
    {
      "cell_type": "code",
      "metadata": {
        "id": "2udDQ-6DhHHn",
        "colab_type": "code",
        "colab": {
          "base_uri": "https://localhost:8080/",
          "height": 50
        },
        "outputId": "1ff61cf2-4fdd-4f5e-e6b2-1f5a07dc7fae"
      },
      "source": [
        "np.zeros([2,2])"
      ],
      "execution_count": 36,
      "outputs": [
        {
          "output_type": "execute_result",
          "data": {
            "text/plain": [
              "array([[0., 0.],\n",
              "       [0., 0.]])"
            ]
          },
          "metadata": {
            "tags": []
          },
          "execution_count": 36
        }
      ]
    },
    {
      "cell_type": "code",
      "metadata": {
        "id": "nWQGfly3hNbF",
        "colab_type": "code",
        "colab": {
          "base_uri": "https://localhost:8080/",
          "height": 50
        },
        "outputId": "995a5095-2272-48d0-b4e3-58f78eef5a0f"
      },
      "source": [
        "np.ones([2,2])"
      ],
      "execution_count": 37,
      "outputs": [
        {
          "output_type": "execute_result",
          "data": {
            "text/plain": [
              "array([[1., 1.],\n",
              "       [1., 1.]])"
            ]
          },
          "metadata": {
            "tags": []
          },
          "execution_count": 37
        }
      ]
    },
    {
      "cell_type": "markdown",
      "metadata": {
        "id": "6istapBIhV8S",
        "colab_type": "text"
      },
      "source": [
        "#7.2 How to generate random numbers?\n",
        "The random module provides nice functions to generate random numbers (and also statistical distributions) of any given shape."
      ]
    },
    {
      "cell_type": "code",
      "metadata": {
        "id": "oXfSFaQphXnR",
        "colab_type": "code",
        "colab": {
          "base_uri": "https://localhost:8080/",
          "height": 269
        },
        "outputId": "03fbf3a0-f83d-4006-dcf7-7c2ac356d694"
      },
      "source": [
        "# Random numbers between [0,1) of shape 2,2\n",
        "print(np.random.rand(2,2))\n",
        "\n",
        "# Normal distribution with mean=0 and variance=1 of shape 2,2\n",
        "print('\\n' , np.random.randn(2,2))\n",
        "\n",
        "# Random integers between [0, 10) of shape 2,2\n",
        "print('\\n' , np.random.randint(0, 10, size=[2,2]))\n",
        "\n",
        "# One random number between [0,1)\n",
        "print('\\n' , np.random.random())\n",
        "\n",
        "# Random numbers between [0,1) of shape 2,2\n",
        "print('\\n' , np.random.random(size=[2,2]))\n",
        "\n",
        "# Pick 10 items from a given list, with equal probability\n",
        "print('\\n' , np.random.choice(['a', 'e', 'i', 'o', 'u'], size=10))  \n"
      ],
      "execution_count": 40,
      "outputs": [
        {
          "output_type": "stream",
          "text": [
            "[[0.11293927 0.90182994]\n",
            " [0.55347829 0.43346377]]\n",
            "\n",
            " [[-1.16982018 -0.57790422]\n",
            " [-0.09951061  0.44328968]]\n",
            "\n",
            " [[1 3]\n",
            " [6 6]]\n",
            "\n",
            " 0.9587565027061363\n",
            "\n",
            " [[0.94616945 0.95918836]\n",
            " [0.02005605 0.26668104]]\n",
            "\n",
            " ['a' 'a' 'i' 'e' 'o' 'a' 'i' 'a' 'e' 'u']\n"
          ],
          "name": "stdout"
        }
      ]
    },
    {
      "cell_type": "markdown",
      "metadata": {
        "id": "h5xG4BHzhjaq",
        "colab_type": "text"
      },
      "source": [
        "#7.3 How to get the unique items and the counts?\n",
        "The np.unique method can be used to get the unique items. If you want the repetition counts of each item, set the return_counts parameter to True."
      ]
    },
    {
      "cell_type": "code",
      "metadata": {
        "id": "2yStfIDbhojF",
        "colab_type": "code",
        "colab": {
          "base_uri": "https://localhost:8080/",
          "height": 34
        },
        "outputId": "75ed5330-b6c4-4715-ff4d-7cc88f45263a"
      },
      "source": [
        "# Create random integers of size 10 between [0,10)\n",
        "arr_rand = np.random.randint(0, 10, size=10)\n",
        "print(arr_rand)"
      ],
      "execution_count": 44,
      "outputs": [
        {
          "output_type": "stream",
          "text": [
            "[2 2 1 0 8 4 0 9 6 2]\n"
          ],
          "name": "stdout"
        }
      ]
    },
    {
      "cell_type": "code",
      "metadata": {
        "id": "YGtAZUmohqsl",
        "colab_type": "code",
        "colab": {
          "base_uri": "https://localhost:8080/",
          "height": 50
        },
        "outputId": "57dd0c84-070c-4ad9-a9a0-66882b5f1067"
      },
      "source": [
        "# Get the unique items and their counts\n",
        "uniqs, counts = np.unique(arr_rand, return_counts=True)\n",
        "print(\"Unique items : \", uniqs)\n",
        "print(\"Counts       : \", counts)"
      ],
      "execution_count": 45,
      "outputs": [
        {
          "output_type": "stream",
          "text": [
            "Unique items :  [0 1 2 4 6 8 9]\n",
            "Counts       :  [2 1 3 1 1 1 1]\n"
          ],
          "name": "stdout"
        }
      ]
    },
    {
      "cell_type": "markdown",
      "metadata": {
        "id": "a0XMyDlziFGO",
        "colab_type": "text"
      },
      "source": [
        "#8.Array math\n",
        "Basic mathematical functions operate elementwise on arrays, and are available both as operator overloads and as functions in the numpy module:"
      ]
    },
    {
      "cell_type": "code",
      "metadata": {
        "id": "lm2PcLPaiKCx",
        "colab_type": "code",
        "colab": {
          "base_uri": "https://localhost:8080/",
          "height": 386
        },
        "outputId": "0cee0cfa-6aac-4373-ab33-1c91f910f72f"
      },
      "source": [
        "import numpy as np\n",
        "\n",
        "x = np.array([[1,2],[3,4]], dtype=np.float64)\n",
        "y = np.array([[5,6],[7,8]], dtype=np.float64)\n",
        "\n",
        "# Elementwise sum; both produce the array\n",
        "print(x + y)\n",
        "print(np.add(x, y))\n",
        "\n",
        "# Elementwise difference; both produce the array\n",
        "print('\\n' ,x - y)\n",
        "print(np.subtract(x, y))\n",
        "\n",
        "# Elementwise product; both produce the array\n",
        "print('\\n' , x * y)\n",
        "print(np.multiply(x, y))\n",
        "\n",
        "# Elementwise division; both produce the array\n",
        "print('\\n' , x / y)\n",
        "print(np.divide(x, y))\n",
        "\n",
        "# Elementwise square root; produces the array\n",
        "print('\\n' , np.sqrt(x))"
      ],
      "execution_count": 47,
      "outputs": [
        {
          "output_type": "stream",
          "text": [
            "[[ 6.  8.]\n",
            " [10. 12.]]\n",
            "[[ 6.  8.]\n",
            " [10. 12.]]\n",
            "\n",
            " [[-4. -4.]\n",
            " [-4. -4.]]\n",
            "[[-4. -4.]\n",
            " [-4. -4.]]\n",
            "\n",
            " [[ 5. 12.]\n",
            " [21. 32.]]\n",
            "[[ 5. 12.]\n",
            " [21. 32.]]\n",
            "\n",
            " [[0.2        0.33333333]\n",
            " [0.42857143 0.5       ]]\n",
            "[[0.2        0.33333333]\n",
            " [0.42857143 0.5       ]]\n",
            "\n",
            " [[1.         1.41421356]\n",
            " [1.73205081 2.        ]]\n"
          ],
          "name": "stdout"
        }
      ]
    },
    {
      "cell_type": "markdown",
      "metadata": {
        "id": "sxCzl4IjiQ_Q",
        "colab_type": "text"
      },
      "source": [
        " '*'  is elementwise multiplication, not matrix multiplication. We instead use the dot function to compute inner products of vectors, to multiply a vector by a matrix, and to multiply matrices. dot is available both as a function in the numpy module and as an instance method of array objects:"
      ]
    },
    {
      "cell_type": "code",
      "metadata": {
        "id": "_jphqMtQiPio",
        "colab_type": "code",
        "colab": {
          "base_uri": "https://localhost:8080/",
          "height": 50
        },
        "outputId": "5625f6d7-5532-4867-dd72-c5d5dadaad54"
      },
      "source": [
        "x = np.array([[1,2],[3,4]])\n",
        "\n",
        "v = np.array([9,10])\n",
        "\n",
        "\n",
        "\n",
        "print( np.dot(x, v))\n",
        "\n"
      ],
      "execution_count": 55,
      "outputs": [
        {
          "output_type": "stream",
          "text": [
            "\n",
            " [29 67]\n"
          ],
          "name": "stdout"
        }
      ]
    },
    {
      "cell_type": "markdown",
      "metadata": {
        "id": "aZG7XMhxidaP",
        "colab_type": "text"
      },
      "source": [
        "Numpy provides many useful functions for performing computations on arrays; one of the most useful is sum:\n",
        "\n",
        "\n",
        "\n",
        "\n",
        "\n",
        "\n"
      ]
    },
    {
      "cell_type": "code",
      "metadata": {
        "id": "C7R29KJHifdP",
        "colab_type": "code",
        "colab": {}
      },
      "source": [
        "x = np.array([[1,2],[3,4]])\n",
        "\n",
        "print(np.sum(x))  # Compute sum of all elements; prints \"10\"\n",
        "print(np.sum(x, axis=0))  # Compute sum of each column; prints \"[4 6]\"\n",
        "print(np.sum(x, axis=1))  # Compute sum of each row; prints \"[3 7]\""
      ],
      "execution_count": 0,
      "outputs": []
    },
    {
      "cell_type": "markdown",
      "metadata": {
        "id": "62jqxC6DihuX",
        "colab_type": "text"
      },
      "source": [
        "Apart from computing mathematical functions using arrays, we frequently need to reshape or otherwise manipulate data in arrays. The simplest example of this type of operation is transposing a matrix; to transpose a matrix, simply use the T attribute of an array object:"
      ]
    },
    {
      "cell_type": "code",
      "metadata": {
        "id": "NbhTGhC-ij2X",
        "colab_type": "code",
        "colab": {
          "base_uri": "https://localhost:8080/",
          "height": 101
        },
        "outputId": "77f538e7-2112-42d6-b12a-39cc40bf8c5a"
      },
      "source": [
        "x = np.array([[1,2], [3,4]])\n",
        "print(x)\n",
        "\n",
        "print('\\n' , x.T)\n",
        "\n",
        "\n"
      ],
      "execution_count": 57,
      "outputs": [
        {
          "output_type": "stream",
          "text": [
            "[[1 2]\n",
            " [3 4]]\n",
            "\n",
            " [[1 3]\n",
            " [2 4]]\n"
          ],
          "name": "stdout"
        }
      ]
    },
    {
      "cell_type": "markdown",
      "metadata": {
        "id": "UFmmncLMaXVt",
        "colab_type": "text"
      },
      "source": [
        "#Inverse matrix\n",
        "We use numpy.linalg.inv () function to calculate the inverse of a matrix. The inverse of a matrix is ​​such that if it is multiplied by the original matrix, it results in identity matrix.\n"
      ]
    },
    {
      "cell_type": "code",
      "metadata": {
        "id": "5z9ISkskaXru",
        "colab_type": "code",
        "colab": {
          "base_uri": "https://localhost:8080/",
          "height": 151
        },
        "outputId": "90af3962-4add-4124-c3a7-7af7bd8a127b"
      },
      "source": [
        "x = np.array([[1,4],[1,9]]) \n",
        "print(x)\n",
        "\n",
        "\n",
        "y = np.linalg.inv(x) \n",
        "print('\\n' , y)\n",
        "\n",
        "\n",
        "print('\\n' ,np.dot(x,y))"
      ],
      "execution_count": 64,
      "outputs": [
        {
          "output_type": "stream",
          "text": [
            "[[1 4]\n",
            " [1 9]]\n",
            "\n",
            " [[ 1.8 -0.8]\n",
            " [-0.2  0.2]]\n",
            "\n",
            " [[ 1.00000000e+00  0.00000000e+00]\n",
            " [-5.55111512e-17  1.00000000e+00]]\n"
          ],
          "name": "stdout"
        }
      ]
    }
  ]
}