{
  "nbformat": 4,
  "nbformat_minor": 0,
  "metadata": {
    "colab": {
      "name": "training.ipynb",
      "provenance": [],
      "collapsed_sections": []
    },
    "kernelspec": {
      "name": "python3",
      "display_name": "Python 3"
    },
    "accelerator": "GPU"
  },
  "cells": [
    {
      "cell_type": "markdown",
      "metadata": {
        "id": "iqF4TIhDsod7",
        "colab_type": "text"
      },
      "source": [
        "#Python Dictionary\n",
        "Dictionary in Python is an unordered collection of data values, used to store data values like a map, which unlike other Data Types that hold only single value as an element, Dictionary holds key:value pair. Key value is provided in the dictionary to make it more optimized. Each key-value pair in a Dictionary is separated by a colon :, whereas each key is separated by a ‘comma’.\n",
        "\n",
        "A Dictionary in Python works similar to the Dictionary in a real world. Keys of a Dictionary must be unique and of immutable data type such as Strings, Integers and tuples, but the key-values can be repeated and be of any type.\n",
        "\n",
        "**Note –** Keys in a dictionary doesn’t allows Polymorphism."
      ]
    },
    {
      "cell_type": "markdown",
      "metadata": {
        "id": "WWFgI0ihs6os",
        "colab_type": "text"
      },
      "source": [
        "#Creating a Dictionary\n",
        "In Python, a Dictionary can be created by placing sequence of elements within curly {} braces, separated by ‘comma’. Dictionary holds a pair of values, one being the Key and the other corresponding pair element being its Key:value. Values in a dictionary can be of any datatype and can be duplicated, whereas keys can’t be repeated and must be immutable.\n",
        "\n",
        "Dictionary can also be created by the built-in function dict(). An empty dictionary can be created by just placing to curly braces{}.\n",
        "\n",
        "**Note –** Dictionary keys are case sensitive, same name but different cases of Key will be treated distinctly.\n",
        " "
      ]
    },
    {
      "cell_type": "code",
      "metadata": {
        "id": "YElhSDAIssTy",
        "colab_type": "code",
        "colab": {
          "base_uri": "https://localhost:8080/",
          "height": 202
        },
        "outputId": "f9503e19-aca9-4c52-dff2-8f9639e76cb1"
      },
      "source": [
        "# Creating an empty Dictionary \n",
        "Dict = {} \n",
        "print(\"Empty Dictionary: \") \n",
        "print(Dict) \n",
        "\n",
        "# Creating a Dictionary \n",
        "# with Integer Keys \n",
        "Dict = {1: 'Facebook', 2: 'Whatsapp', 3: 'Instagram'} \n",
        "print(\"\\nDictionary with the use of Integer Keys: \") \n",
        "print(Dict) \n",
        "\n",
        "# Creating a Dictionary \n",
        "# with Mixed keys \n",
        "Dict = {'Name': 'Mohammad', 1: [1, 2, 3, 4]} \n",
        "print(\"\\nDictionary with the use of Mixed Keys: \") \n",
        "print(Dict) \n",
        "\n",
        "# Creating a Dictionary \n",
        "# with dict() method \n",
        "Dict = dict({1: 'Facebook', 2: 'Whatsapp', 3:'Instagram'}) \n",
        "print(\"\\nDictionary with the use of dict(): \") \n",
        "print(Dict) "
      ],
      "execution_count": 1,
      "outputs": [
        {
          "output_type": "stream",
          "text": [
            "Empty Dictionary: \n",
            "{}\n",
            "\n",
            "Dictionary with the use of Integer Keys: \n",
            "{1: 'Facebook', 2: 'Whatsapp', 3: 'Instagram'}\n",
            "\n",
            "Dictionary with the use of Mixed Keys: \n",
            "{'Name': 'Mohammad', 1: [1, 2, 3, 4]}\n",
            "\n",
            "Dictionary with the use of dict(): \n",
            "{1: 'Facebook', 2: 'Whatsapp', 3: 'Instagram'}\n"
          ],
          "name": "stdout"
        }
      ]
    },
    {
      "cell_type": "markdown",
      "metadata": {
        "id": "PePYWkXIt4vG",
        "colab_type": "text"
      },
      "source": [
        "#Adding elements to a Dictionary\n",
        "In Python Dictionary, Addition of elements can be done in multiple ways. One value at a time can be added to a Dictionary by defining value along with the key e.g. Dict[Key] = ‘Value’. Updating an existing value in a Dictionary can be done by using the built-in update() method. Nested key values can also be added to an existing Dictionary.\n",
        "\n",
        "**Note-** While adding a value, if the key value already exists, the value gets updated otherwise a new Key with the value is added to the Dictionary."
      ]
    },
    {
      "cell_type": "code",
      "metadata": {
        "id": "HnOjb7TCt8vU",
        "colab_type": "code",
        "colab": {
          "base_uri": "https://localhost:8080/",
          "height": 252
        },
        "outputId": "289ce191-3438-4a5b-b8ba-c884a29c0cf4"
      },
      "source": [
        "# Creating an empty Dictionary \n",
        "Dict = {} \n",
        "print(\"Empty Dictionary: \") \n",
        "print(Dict) \n",
        "\n",
        "# Adding elements one at a time \n",
        "Dict[0] = 'Facebook'\n",
        "Dict[2] = 'Whatsapp'\n",
        "Dict[3] = 1\n",
        "print(\"\\nDictionary after adding 3 elements: \") \n",
        "print(Dict) \n",
        "\n",
        "# Adding set of values \n",
        "# to a single Key \n",
        "Dict['Value_set'] = 2, 3, 4\n",
        "print(\"\\nDictionary after adding 3 elements: \") \n",
        "print(Dict) \n",
        "\n",
        "# Updating existing Key's Value \n",
        "Dict[2] = 'Welcome'\n",
        "print(\"\\nUpdated key value: \") \n",
        "print(Dict) \n",
        "\n",
        "# Adding Nested Key value to Dictionary \n",
        "Dict[5] = {'Nested' :{'1' : 'Facebook', '2' : 'Whatsapp'}} \n",
        "print(\"\\nAdding a Nested Key: \") \n",
        "print(Dict) \n"
      ],
      "execution_count": 2,
      "outputs": [
        {
          "output_type": "stream",
          "text": [
            "Empty Dictionary: \n",
            "{}\n",
            "\n",
            "Dictionary after adding 3 elements: \n",
            "{0: 'Facebook', 2: 'Whatsapp', 3: 1}\n",
            "\n",
            "Dictionary after adding 3 elements: \n",
            "{0: 'Facebook', 2: 'Whatsapp', 3: 1, 'Value_set': (2, 3, 4)}\n",
            "\n",
            "Updated key value: \n",
            "{0: 'Facebook', 2: 'Welcome', 3: 1, 'Value_set': (2, 3, 4)}\n",
            "\n",
            "Adding a Nested Key: \n",
            "{0: 'Facebook', 2: 'Welcome', 3: 1, 'Value_set': (2, 3, 4), 5: {'Nested': {'1': 'Facebook', '2': 'Whatsapp'}}}\n"
          ],
          "name": "stdout"
        }
      ]
    },
    {
      "cell_type": "markdown",
      "metadata": {
        "id": "xYoPXuLkuXCE",
        "colab_type": "text"
      },
      "source": [
        "#Accessing elements from a Dictionary\n",
        "\n",
        "In order to access the items of a dictionary refer to its key name.Key can be used inside square brackets.There is also a method called get() that will also help in acessing the element from a dictionary."
      ]
    },
    {
      "cell_type": "code",
      "metadata": {
        "id": "7VZEsWL3uaEE",
        "colab_type": "code",
        "colab": {
          "base_uri": "https://localhost:8080/",
          "height": 118
        },
        "outputId": "96b03754-6285-4874-822f-daa06a58e902"
      },
      "source": [
        "# accesing a element from a Dictionary \n",
        "\n",
        "# Creating a Dictionary \n",
        "Dict = {1: 'Facebook', 2: 'Whatsapp', 3: 'Instagram'} \n",
        "\n",
        "# accessing a element using key \n",
        "print(\"Acessing a element using key:\") \n",
        "print(Dict[2]) \n",
        "\n",
        "# accessing a element using key \n",
        "print(\"Acessing a element using key:\") \n",
        "print(Dict[1]) \n",
        "\n",
        "# accessing a element using get() \n",
        "# method \n",
        "print(\"Acessing a element using get:\") \n",
        "print(Dict.get(3)) \n"
      ],
      "execution_count": 5,
      "outputs": [
        {
          "output_type": "stream",
          "text": [
            "Acessing a element using key:\n",
            "Whatsapp\n",
            "Acessing a element using key:\n",
            "Facebook\n",
            "Acessing a element using get:\n",
            "Instagram\n"
          ],
          "name": "stdout"
        }
      ]
    },
    {
      "cell_type": "markdown",
      "metadata": {
        "id": "FBZHV01Iu9aC",
        "colab_type": "text"
      },
      "source": [
        "#Removing Elements from Dictionary\n",
        "\n",
        "In Python Dictionary, deletion of keys can be done by using the del keyword. Using del keyword, specific values from a dictionary as well as whole dictionary can be deleted. Other functions like pop()can also be used for deleting specific values and arbitrary values from a Dictionary. All the items from a dictionary can be deleted at once by using clear() method. Items in a Nested dictionary can also be deleted by using del keyword and providing specific nested key and particular key to be deleted from that nested Dictionary."
      ]
    },
    {
      "cell_type": "code",
      "metadata": {
        "id": "EXLnVDfKvP6c",
        "colab_type": "code",
        "colab": {
          "base_uri": "https://localhost:8080/",
          "height": 302
        },
        "outputId": "240d591f-19be-4ede-81b0-e1da204717ae"
      },
      "source": [
        "# Initial Dictionary \n",
        "Dict = { 5 : 'Welcome', 6 : 'To', 7 : 'Latakia', \n",
        "\t\t'A' : {1 : 'facebook', 2 : 'Whatsapp', 3 : 'Instagram'}, \n",
        "\t\t'B' : {1 : 'Hello', 2 : 'world'}} \n",
        "print(\"Initial Dictionary: \") \n",
        "print(Dict) \n",
        "\n",
        "# Deleting a Key value \n",
        "del Dict[6] \n",
        "print(\"\\nDeleting a specific key: \") \n",
        "print(Dict) \n",
        "\n",
        "# Deleting a Key from \n",
        "# Nested Dictionary \n",
        "del Dict['A'][2] \n",
        "print(\"\\nDeleting a key from Nested Dictionary: \") \n",
        "print(Dict) \n",
        "\n",
        "# Deleting a Key \n",
        "# using pop() \n",
        "Dict.pop(5) \n",
        "print(\"\\nPopping specific element: \") \n",
        "print(Dict) \n",
        "\n",
        "# Deleting an arbitrary Key-value pair \n",
        "# using popitem() \n",
        "Dict.popitem() \n",
        "print(\"\\nPops an arbitrary key-value pair: \") \n",
        "print(Dict) \n",
        "\n",
        "# Deleting entire Dictionary \n",
        "Dict.clear() \n",
        "print(\"\\nDeleting Entire Dictionary: \") \n",
        "print(Dict) \n"
      ],
      "execution_count": 7,
      "outputs": [
        {
          "output_type": "stream",
          "text": [
            "Initial Dictionary: \n",
            "{5: 'Welcome', 6: 'To', 7: 'Latakia', 'A': {1: 'facebook', 2: 'Whatsapp', 3: 'Instagram'}, 'B': {1: 'Hello', 2: 'world'}}\n",
            "\n",
            "Deleting a specific key: \n",
            "{5: 'Welcome', 7: 'Latakia', 'A': {1: 'facebook', 2: 'Whatsapp', 3: 'Instagram'}, 'B': {1: 'Hello', 2: 'world'}}\n",
            "\n",
            "Deleting a key from Nested Dictionary: \n",
            "{5: 'Welcome', 7: 'Latakia', 'A': {1: 'facebook', 3: 'Instagram'}, 'B': {1: 'Hello', 2: 'world'}}\n",
            "\n",
            "Popping specific element: \n",
            "{7: 'Latakia', 'A': {1: 'facebook', 3: 'Instagram'}, 'B': {1: 'Hello', 2: 'world'}}\n",
            "\n",
            "Pops an arbitrary key-value pair: \n",
            "{7: 'Latakia', 'A': {1: 'facebook', 3: 'Instagram'}}\n",
            "\n",
            "Deleting Entire Dictionary: \n",
            "{}\n"
          ],
          "name": "stdout"
        }
      ]
    },
    {
      "cell_type": "markdown",
      "metadata": {
        "id": "Qup8EZfkwD99",
        "colab_type": "text"
      },
      "source": [
        "#tems() method\n",
        "\n",
        "In Python Dictionary, items() method is used to return the list with all dictionary keys with values.\n",
        "\n"
      ]
    },
    {
      "cell_type": "code",
      "metadata": {
        "id": "uMj5So7rwUms",
        "colab_type": "code",
        "colab": {
          "base_uri": "https://localhost:8080/",
          "height": 50
        },
        "outputId": "6f4a4e48-7cd3-4dac-b841-a3b039570e90"
      },
      "source": [
        "# Initial Dictionary \n",
        "Dictionary1 = { 1: 'Facebook', 2: 'Instagram', 3: 'Whatsapp' } \n",
        "\n",
        "print(\"Dictionary items:\") \n",
        "\n",
        "# Printing all the items of the Dictionary \n",
        "print(Dictionary1.items()) \n"
      ],
      "execution_count": 8,
      "outputs": [
        {
          "output_type": "stream",
          "text": [
            "Dictionary items:\n",
            "dict_items([(1, 'Facebook'), (2, 'Instagram'), (3, 'Whatsapp')])\n"
          ],
          "name": "stdout"
        }
      ]
    },
    {
      "cell_type": "markdown",
      "metadata": {
        "id": "ekG29uhgwgzG",
        "colab_type": "text"
      },
      "source": [
        "#keys() method\n",
        "\n",
        "keys() method in Python Dictionary, returns a view object that displays a list of all the keys in the dictionary."
      ]
    },
    {
      "cell_type": "code",
      "metadata": {
        "id": "vQvGxLCiwg7V",
        "colab_type": "code",
        "colab": {
          "base_uri": "https://localhost:8080/",
          "height": 34
        },
        "outputId": "ff9a603e-e955-4061-8738-cf8204e1dc53"
      },
      "source": [
        "# Initial Dictionary \n",
        "Dictionary1 = { 1: 'Facebook', 2: 'Instagram', 3: 'Whatsapp' } \n",
        "\n",
        "# Printing keys of dictionary \n",
        "print(Dictionary1.keys()) "
      ],
      "execution_count": 9,
      "outputs": [
        {
          "output_type": "stream",
          "text": [
            "dict_keys([1, 2, 3])\n"
          ],
          "name": "stdout"
        }
      ]
    },
    {
      "cell_type": "markdown",
      "metadata": {
        "id": "5jtxv-VFxPce",
        "colab_type": "text"
      },
      "source": [
        "#values() method\n",
        "\n",
        "values() method in Python Dictionary,returns a list of all the values available in a given dictionary.\n",
        "\n"
      ]
    },
    {
      "cell_type": "code",
      "metadata": {
        "id": "KgWzd7UcxPlT",
        "colab_type": "code",
        "colab": {
          "base_uri": "https://localhost:8080/",
          "height": 34
        },
        "outputId": "c7168b74-63e2-44da-d6f5-53761e30f4fa"
      },
      "source": [
        "# Initial Dictionary \n",
        "Dictionary1 = { 1: 'Facebook', 2: 'Instagram', 3: 'Whatsapp' } \n",
        "\n",
        "# Printing keys of dictionary \n",
        "print(Dictionary1.values()) "
      ],
      "execution_count": 10,
      "outputs": [
        {
          "output_type": "stream",
          "text": [
            "dict_values(['Facebook', 'Instagram', 'Whatsapp'])\n"
          ],
          "name": "stdout"
        }
      ]
    }
  ]
}