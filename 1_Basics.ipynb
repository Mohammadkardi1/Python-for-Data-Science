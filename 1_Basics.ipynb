{
  "nbformat": 4,
  "nbformat_minor": 0,
  "metadata": {
    "accelerator": "GPU",
    "colab": {
      "name": "1_ Basics.ipynb",
      "provenance": [],
      "collapsed_sections": []
    },
    "kernelspec": {
      "display_name": "Python 3",
      "language": "python",
      "name": "python3"
    },
    "language_info": {
      "codemirror_mode": {
        "name": "ipython",
        "version": 3
      },
      "file_extension": ".py",
      "mimetype": "text/x-python",
      "name": "python",
      "nbconvert_exporter": "python",
      "pygments_lexer": "ipython3",
      "version": "3.7.1"
    }
  },
  "cells": [
    {
      "cell_type": "markdown",
      "metadata": {
        "colab_type": "text",
        "id": "Zc_HAC1gcH1s"
      },
      "source": [
        "# Python Language Introduction"
      ]
    },
    {
      "cell_type": "markdown",
      "metadata": {
        "colab_type": "text",
        "id": "KGzuIwcySVuF"
      },
      "source": [
        "Python is a widely used general-purpose, high level programming language. It was initially designed by Guido van Rossum in 1991 and developed by Python Software Foundation. It was mainly developed for emphasis on code readability, and its syntax allows programmers to express concepts in fewer lines of code\n",
        "\n",
        "\n",
        "Python is a programming language that lets you work quickly and integrate systems more efficiently.\n",
        "\n",
        "Following is program in Python\n",
        "\n"
      ]
    },
    {
      "cell_type": "code",
      "metadata": {
        "colab_type": "code",
        "id": "RIiBExnXQWvG",
        "outputId": "eea5714f-7d63-40c0-fc35-91708e04a131",
        "colab": {
          "base_uri": "https://localhost:8080/",
          "height": 34
        }
      },
      "source": [
        "print(\"Hello world\") "
      ],
      "execution_count": 0,
      "outputs": [
        {
          "output_type": "stream",
          "text": [
            "Hello world\n"
          ],
          "name": "stdout"
        }
      ]
    },
    {
      "cell_type": "markdown",
      "metadata": {
        "id": "b327T1kg1_IE",
        "colab_type": "text"
      },
      "source": [
        "# input in Python\n",
        "\n",
        "**input ( )** : This function first takes the input from the user and then evaluates the expression, which means Python automatically identifies whether user entered a string or a number or list."
      ]
    },
    {
      "cell_type": "code",
      "metadata": {
        "id": "3056fF6t1_Vg",
        "colab_type": "code",
        "colab": {}
      },
      "source": [
        "value = input(\"Enter your value: \") \n",
        "print(value) "
      ],
      "execution_count": 0,
      "outputs": []
    },
    {
      "cell_type": "markdown",
      "metadata": {
        "id": "ONPweWBk1_h5",
        "colab_type": "text"
      },
      "source": [
        "# Output using print() function\n",
        "\n",
        "**print()** : This function converts the expressions you pass into a string before writing to the screen.\n"
      ]
    },
    {
      "cell_type": "code",
      "metadata": {
        "id": "Ao9Zjj7Q1_uC",
        "colab_type": "code",
        "colab": {}
      },
      "source": [
        "print('Hello world')"
      ],
      "execution_count": 0,
      "outputs": []
    },
    {
      "cell_type": "markdown",
      "metadata": {
        "colab_type": "text",
        "id": "8iQHFVPicO50"
      },
      "source": [
        "# Keywords in Python\n"
      ]
    },
    {
      "cell_type": "markdown",
      "metadata": {
        "colab_type": "text",
        "id": "u3ip4gwxUBOA"
      },
      "source": [
        "\n",
        "**1. True :** This keyword is used to represent a boolean true. If a statement is true, “True” is printed.\n",
        "\n",
        "**2. False :** This keyword is used to represent a boolean false. If a statement is false, “False” is printed.\n",
        "\n",
        "**3. None :** This is a special constant used to denote a null value or a void. Its important to remember, 0, any empty container(e.g empty list) do not compute to None.\n",
        "It is an object of its own datatype – NoneType. It is not possible to create multiple None objects and can assign it to variables.\n",
        "\n",
        "**4. and :** This a logical operator in python. “and” Return the first false value .if not found return last.\n",
        "\n",
        "**5. or :** This a logical operator in python. “or” Return the first True value.if not found return last.\n",
        "\n",
        "**6. not :** This logical operator inverts the truth value. \n"
      ]
    },
    {
      "cell_type": "code",
      "metadata": {
        "colab_type": "code",
        "id": "_19m62laVy65",
        "outputId": "fb608550-8d00-406a-aea8-e50f3b700f83",
        "colab": {
          "base_uri": "https://localhost:8080/",
          "height": 67
        }
      },
      "source": [
        "print (True or False) \n",
        " \n",
        "print (False and True) \n",
        "  \n",
        "print (not True) "
      ],
      "execution_count": 0,
      "outputs": [
        {
          "output_type": "stream",
          "text": [
            "True\n",
            "False\n",
            "False\n"
          ],
          "name": "stdout"
        }
      ]
    },
    {
      "cell_type": "markdown",
      "metadata": {
        "colab_type": "text",
        "id": "20EPQ4I5w-1-"
      },
      "source": [
        "**7. break :** “break” is used to control the flow of loop. The statement is used to break out of loop and passes the control to the statement following immediately after loop."
      ]
    },
    {
      "cell_type": "code",
      "metadata": {
        "colab_type": "code",
        "id": "sLfve58CxANO",
        "outputId": "e4c1fa52-894b-43cd-8682-8a59986b515e",
        "colab": {
          "base_uri": "https://localhost:8080/",
          "height": 67
        }
      },
      "source": [
        "i = 1\n",
        "while i < 6:\n",
        "  print(i)\n",
        "  if i == 3:\n",
        "    break\n",
        "  i += 1"
      ],
      "execution_count": 0,
      "outputs": [
        {
          "output_type": "stream",
          "text": [
            "1\n",
            "2\n",
            "3\n"
          ],
          "name": "stdout"
        }
      ]
    },
    {
      "cell_type": "markdown",
      "metadata": {
        "colab_type": "text",
        "id": "yh-5zfK8xFm5"
      },
      "source": [
        "**8. continue :** “continue” is also used to control the flow of code. The keyword skips the current iteration of the loop, but does not end the loop."
      ]
    },
    {
      "cell_type": "code",
      "metadata": {
        "colab_type": "code",
        "id": "iDchirT2xGeI",
        "outputId": "5c3cef14-fce7-4a30-b606-497def816796",
        "colab": {
          "base_uri": "https://localhost:8080/",
          "height": 101
        }
      },
      "source": [
        "i = 0\n",
        "while i < 6:\n",
        "  i += 1\n",
        "  if i == 3:\n",
        "    continue\n",
        "  print(i)"
      ],
      "execution_count": 0,
      "outputs": [
        {
          "output_type": "stream",
          "text": [
            "1\n",
            "2\n",
            "4\n",
            "5\n",
            "6\n"
          ],
          "name": "stdout"
        }
      ]
    },
    {
      "cell_type": "markdown",
      "metadata": {
        "colab_type": "text",
        "id": "N3w0U2gFsnQa"
      },
      "source": [
        "\n",
        "\n",
        "\n",
        "\n",
        "**9. class :** This keyword is used to declare user defined classes.\n",
        "\n",
        "**10. def :** This keyword is used to declare user defined functions.\n",
        "\n",
        "**11. if :** It is a control statement for decision making. Truth expression forces control to go in “if” statement block.\n",
        "\n",
        "**12. else :** It is a control statement for decision making. False expression forces control to go in “else” statement block.\n",
        "\n",
        "**13. elif :** It is a control statement for decision making. It is short for “else if”\n",
        "\n",
        "**13. del :** del is used to delete a reference to an object. Any variable or list value can be deleted using del."
      ]
    },
    {
      "cell_type": "code",
      "metadata": {
        "colab_type": "code",
        "id": "M31xmoXoWpPq",
        "outputId": "62ca1c62-47f5-4203-8e67-d401d1852b69",
        "colab": {
          "base_uri": "https://localhost:8080/",
          "height": 84
        }
      },
      "source": [
        "# initialising list \n",
        "a = [1, 2, 3] \n",
        "\n",
        "# printing list before deleting any value \n",
        "print (\"The list before deleting any value\") \n",
        "print (a) \n",
        "\n",
        "# using del to delete 2nd element of list \n",
        "del a[1] \n",
        "\n",
        "# printing list after deleting 2nd element \n",
        "print (\"The list after deleting 2nd element\") \n",
        "print (a) "
      ],
      "execution_count": 0,
      "outputs": [
        {
          "output_type": "stream",
          "text": [
            "The list before deleting any value\n",
            "[1, 2, 3]\n",
            "The list after deleting 2nd element\n",
            "[1, 3]\n"
          ],
          "name": "stdout"
        }
      ]
    },
    {
      "cell_type": "markdown",
      "metadata": {
        "colab_type": "text",
        "id": "AesnB-l3XLsV"
      },
      "source": [
        "**15. try :** This keyword is used for exception handling, used to catch the errors in the code using the keyword except. Code in “try” block is checked, if there is any type of error, except block is executed.\n",
        "\n",
        "**16. except :** this works together with “try” to catch exceptions.\n",
        "\n",
        "**17. for :** This keyword is used to control flow and for looping.\n",
        "\n",
        "**18. while :** Has a similar working like “for” , used to control flow and for looping.\n",
        "\n"
      ]
    },
    {
      "cell_type": "code",
      "metadata": {
        "colab_type": "code",
        "id": "F39GZmKywzUJ",
        "outputId": "f0a10043-2144-418e-9a5e-6441735184af",
        "colab": {
          "base_uri": "https://localhost:8080/",
          "height": 101
        }
      },
      "source": [
        "i = 1\n",
        "while i < 6:\n",
        "  print(i)\n",
        "  i += 1"
      ],
      "execution_count": 0,
      "outputs": [
        {
          "output_type": "stream",
          "text": [
            "1\n",
            "2\n",
            "3\n",
            "4\n",
            "5\n"
          ],
          "name": "stdout"
        }
      ]
    },
    {
      "cell_type": "markdown",
      "metadata": {
        "colab_type": "text",
        "id": "q2-hDLrZwzia"
      },
      "source": [
        "**19. import :** This statement is used to include a particular module into current program.\n",
        "\n",
        "**20. from :** Generally used with import, from is used to import particular functionality from the module imported.\n",
        "\n",
        "**21. as :** This keyword is used to create the alias for the module imported. i.e giving a new name to the imported module.. E.g import math as mymath."
      ]
    },
    {
      "cell_type": "code",
      "metadata": {
        "colab_type": "code",
        "id": "F62z58VnwGoe",
        "colab": {}
      },
      "source": [
        "import math\n",
        "\n",
        "import numpy as np\n",
        "\n",
        "from matplotlib import pyplot"
      ],
      "execution_count": 0,
      "outputs": []
    },
    {
      "cell_type": "markdown",
      "metadata": {
        "colab_type": "text",
        "id": "9rnNsm0SwGyj"
      },
      "source": [
        "**22. lambda :** This keyword is used to make inline returning functions with no statements allowed internally."
      ]
    },
    {
      "cell_type": "code",
      "metadata": {
        "colab_type": "code",
        "id": "a0zkXZ7vvN6g",
        "outputId": "6ad4681b-56c7-45be-8af3-9be46db3b71b",
        "colab": {
          "base_uri": "https://localhost:8080/",
          "height": 50
        }
      },
      "source": [
        "#A lambda function that adds 10 to the number passed\n",
        "#in as an argument, and print the result\n",
        "x = lambda a : a + 10\n",
        "print(x(5))\n",
        "\n",
        "#A lambda function that multiplies argument\n",
        "#a with argument b and print the result\n",
        "\n",
        "y = lambda a, b : a * b\n",
        "print(y(5, 6))"
      ],
      "execution_count": 0,
      "outputs": [
        {
          "output_type": "stream",
          "text": [
            "15\n",
            "30\n"
          ],
          "name": "stdout"
        }
      ]
    },
    {
      "cell_type": "markdown",
      "metadata": {
        "colab_type": "text",
        "id": "chFRfHbTvOO1"
      },
      "source": [
        "**23. return :** This keyword is used to return from the function.\n",
        "\n",
        "**24. yield :** This keyword is used like return statement but is used to return a generator. "
      ]
    },
    {
      "cell_type": "code",
      "metadata": {
        "colab_type": "code",
        "id": "dt_Tpy2yuc6Z",
        "outputId": "29eb5248-7d41-4896-ff42-a5dc38381f80",
        "colab": {
          "base_uri": "https://localhost:8080/",
          "height": 67
        }
      },
      "source": [
        "# A generator function that yields 1 for first time, \n",
        "# 2 second time and 3 third time \n",
        "def simpleGeneratorFun(): \n",
        "\tyield 1\n",
        "\tyield 2\n",
        "\tyield 3\n",
        "\n",
        "# Driver code to check above generator function \n",
        "for value in simpleGeneratorFun(): \n",
        "\tprint(value) \n"
      ],
      "execution_count": 0,
      "outputs": [
        {
          "output_type": "stream",
          "text": [
            "1\n",
            "2\n",
            "3\n"
          ],
          "name": "stdout"
        }
      ]
    },
    {
      "cell_type": "markdown",
      "metadata": {
        "colab_type": "text",
        "id": "tGS7lJCbudD5"
      },
      "source": [
        "**25. with :** This keyword is used to wrap the execution of block of code within methods defined by context manager.This keyword is not used much in day to day programming.\n",
        "\n",
        "**26. in :** This keyword is used to check if a container contains a value. This keyword is also used to loop through the container.\n",
        "\n",
        "**27. is :** This keyword is used to test object identity, i.e to check if both the objects take same memory location or not."
      ]
    },
    {
      "cell_type": "markdown",
      "metadata": {
        "colab_type": "text",
        "id": "JrmNuJA9cAKM"
      },
      "source": [
        "# Indentation"
      ]
    },
    {
      "cell_type": "markdown",
      "metadata": {
        "colab_type": "text",
        "id": "neooOKQyYlUt"
      },
      "source": [
        "A block is a combination of all these statements. Block can be regarded as the grouping of statements for a specific purpose. Most of the programming languages like C, C++, Java use braces { } to define a block of code. One of the distinctive features of Python is its use of indentation to highlight the blocks of code. Whitespace is used for indentation in Python. All statements with the same distance to the right belong to the same block of code. If a block has to be more deeply nested, it is simply indented further to the right.\n"
      ]
    },
    {
      "cell_type": "code",
      "metadata": {
        "colab_type": "code",
        "id": "CxX3BhE2Zzqm",
        "outputId": "8efd6767-9464-48fc-91df-7b935a4619e8",
        "colab": {
          "base_uri": "https://localhost:8080/",
          "height": 34
        }
      },
      "source": [
        "def some_func(): \n",
        "\tprint(\"You are welcome to some_func\") \n",
        "\n",
        "\n",
        "some_func() "
      ],
      "execution_count": 0,
      "outputs": [
        {
          "output_type": "stream",
          "text": [
            "You are welcome to some_func\n"
          ],
          "name": "stdout"
        }
      ]
    },
    {
      "cell_type": "markdown",
      "metadata": {
        "colab_type": "text",
        "id": "HInVadzbcUKl"
      },
      "source": [
        "# Comments"
      ]
    },
    {
      "cell_type": "markdown",
      "metadata": {
        "colab_type": "text",
        "id": "ZPGRbx8ga8ji"
      },
      "source": [
        "\n",
        "\n",
        "Python developers often make use of the comment system as, without the use of it, things can get real confusing, real fast. Comments are the useful information that the developers provide to make the reader understand the source code. It explains the logic or a part of it used in the code.\n"
      ]
    },
    {
      "cell_type": "code",
      "metadata": {
        "colab_type": "code",
        "id": "875ywWJobDIS",
        "outputId": "7a7e5b9f-1172-4f0d-fdad-5c84f479a214",
        "colab": {
          "base_uri": "https://localhost:8080/",
          "height": 34
        }
      },
      "source": [
        "a, b = 1, 3 # Declaring two integers \n",
        "sum = a + b # adding two integers \n",
        "print(sum) # displaying the output \n"
      ],
      "execution_count": 0,
      "outputs": [
        {
          "output_type": "stream",
          "text": [
            "4\n"
          ],
          "name": "stdout"
        }
      ]
    },
    {
      "cell_type": "markdown",
      "metadata": {
        "colab_type": "text",
        "id": "RcWBneobcb77"
      },
      "source": [
        "# Multi-line string as comment :"
      ]
    },
    {
      "cell_type": "markdown",
      "metadata": {
        "colab_type": "text",
        "id": "sl41BN09bN1D"
      },
      "source": [
        "\n",
        "Python multi-line comment is a piece of text enclosed in a delimiter (\"\"\") on each end of the comment. Again there should be no white space between delimiter (\"\"\"). They are useful when the comment text does not fit into one line; therefore needs to span across lines. Multi-line comments or paragraphs serve as documentation for others reading your code."
      ]
    },
    {
      "cell_type": "code",
      "metadata": {
        "colab_type": "code",
        "id": "JNQHrOLFbnZu",
        "outputId": "9f613913-5049-4315-9d41-37554705dff7",
        "colab": {
          "base_uri": "https://localhost:8080/",
          "height": 34
        }
      },
      "source": [
        "\"\"\" \n",
        "This would be\n",
        "a multiline comment \n",
        "in Python that \n",
        "\"\"\"\n",
        "print(\"multiline comment\") "
      ],
      "execution_count": 0,
      "outputs": [
        {
          "output_type": "stream",
          "text": [
            "multiline comment\n"
          ],
          "name": "stdout"
        }
      ]
    },
    {
      "cell_type": "markdown",
      "metadata": {
        "colab_type": "text",
        "id": "L2YLTN7sde15"
      },
      "source": [
        "# assign values to variables in Python"
      ]
    },
    {
      "cell_type": "code",
      "metadata": {
        "colab_type": "code",
        "id": "wz4zGfKFdhX4",
        "outputId": "b0f16116-9178-4330-8fc9-b5ae1fb2821d",
        "colab": {
          "base_uri": "https://localhost:8080/",
          "height": 34
        }
      },
      "source": [
        "# initialising variable directly \n",
        "a = 5\n",
        "\n",
        "# printing value of a \n",
        "print (\"The value of a is: \" + str(a)) \n"
      ],
      "execution_count": 0,
      "outputs": [
        {
          "output_type": "stream",
          "text": [
            "The value of a is: 5\n"
          ],
          "name": "stdout"
        }
      ]
    },
    {
      "cell_type": "markdown",
      "metadata": {
        "colab_type": "text",
        "id": "OP49KDxLni2w"
      },
      "source": [
        "# Output Formatting"
      ]
    },
    {
      "cell_type": "markdown",
      "metadata": {
        "colab_type": "text",
        "id": "9Gn5F0IIn-Wn"
      },
      "source": [
        "Formatting output using String modulo operator(%) :"
      ]
    },
    {
      "cell_type": "code",
      "metadata": {
        "colab_type": "code",
        "id": "zFMw5CJcnkg6",
        "outputId": "346ba300-749e-44aa-f26f-516d4dad11dc",
        "colab": {
          "base_uri": "https://localhost:8080/",
          "height": 50
        }
      },
      "source": [
        "# print float value \n",
        "print(\"% 1.2f\"% (435.332)) \n",
        "\n",
        "\n",
        "# print integer value \n",
        "print(\"Total students : % 3d, Boys : % 2d\" %(240, 120)) "
      ],
      "execution_count": 0,
      "outputs": [
        {
          "output_type": "stream",
          "text": [
            " 435.33\n",
            "Total students :  240, Boys :  120\n"
          ],
          "name": "stdout"
        }
      ]
    },
    {
      "cell_type": "markdown",
      "metadata": {
        "colab_type": "text",
        "id": "RSW_JY5KpJVb"
      },
      "source": [
        "Formatting output using format method :"
      ]
    },
    {
      "cell_type": "code",
      "metadata": {
        "colab_type": "code",
        "id": "3XkJ4wU2px16",
        "outputId": "f3fc225d-8185-478e-9286-62759d1fe235",
        "colab": {
          "base_uri": "https://localhost:8080/",
          "height": 50
        }
      },
      "source": [
        "# using format() method \n",
        "\n",
        "print('{0} and {1}'.format('Cat', 'Dog')) \n",
        "\n",
        "print('{1} and {0}'.format('Cat', 'Dog')) \n"
      ],
      "execution_count": 0,
      "outputs": [
        {
          "output_type": "stream",
          "text": [
            "Cat and Dog\n",
            "Dog and Cat\n"
          ],
          "name": "stdout"
        }
      ]
    },
    {
      "cell_type": "markdown",
      "metadata": {
        "colab_type": "text",
        "id": "eJxbqdCwqeTv"
      },
      "source": [
        "# Decision Making in Python (if , if..else, Nested if, if-elif)"
      ]
    },
    {
      "cell_type": "markdown",
      "metadata": {
        "colab_type": "text",
        "id": "GV01Dcnvqnha"
      },
      "source": [
        "**if statement**"
      ]
    },
    {
      "cell_type": "code",
      "metadata": {
        "colab_type": "code",
        "id": "-xNxJ-rtqg_0",
        "outputId": "d7fe358c-0120-400a-b46b-1876c2148a4e",
        "colab": {
          "base_uri": "https://localhost:8080/",
          "height": 34
        }
      },
      "source": [
        "i = 10\n",
        "if (i < 15): \n",
        "  print (\"10 is less than 15\") "
      ],
      "execution_count": 0,
      "outputs": [
        {
          "output_type": "stream",
          "text": [
            "10 is less than 15\n"
          ],
          "name": "stdout"
        }
      ]
    },
    {
      "cell_type": "markdown",
      "metadata": {
        "colab_type": "text",
        "id": "qouT37xtq6hA"
      },
      "source": [
        "**if-eles**"
      ]
    },
    {
      "cell_type": "code",
      "metadata": {
        "colab_type": "code",
        "id": "k7wfvhGQq8W5",
        "outputId": "335e29ea-0685-45e3-84eb-8ca4a66f0f4a",
        "colab": {
          "base_uri": "https://localhost:8080/",
          "height": 34
        }
      },
      "source": [
        "i = 20; \n",
        "if (i < 15): \n",
        "\tprint (\"i is smaller than 15\") \n",
        "else: \n",
        "\tprint (\"i is greater than 15\") \n",
        "\n"
      ],
      "execution_count": 0,
      "outputs": [
        {
          "output_type": "stream",
          "text": [
            "i is greater than 15\n"
          ],
          "name": "stdout"
        }
      ]
    },
    {
      "cell_type": "markdown",
      "metadata": {
        "colab_type": "text",
        "id": "u7pcI19zrELB"
      },
      "source": [
        "**nested-if**"
      ]
    },
    {
      "cell_type": "code",
      "metadata": {
        "colab_type": "code",
        "id": "zCA-Qdh-rMv0",
        "outputId": "a20c0fce-4c3c-42cc-c8cd-645ac4dfd8d1",
        "colab": {
          "base_uri": "https://localhost:8080/",
          "height": 34
        }
      },
      "source": [
        "i = 10\n",
        "if (i == 10): \n",
        "  # Nested - if statement\n",
        "\tif (i < 15): \n",
        "\t\tprint (\"i is smaller than 15\") \n"
      ],
      "execution_count": 0,
      "outputs": [
        {
          "output_type": "stream",
          "text": [
            "i is smaller than 15\n"
          ],
          "name": "stdout"
        }
      ]
    },
    {
      "cell_type": "markdown",
      "metadata": {
        "colab_type": "text",
        "id": "yFVY4b4rrrmK"
      },
      "source": [
        "**if-elif-else ladder**"
      ]
    },
    {
      "cell_type": "code",
      "metadata": {
        "colab_type": "code",
        "id": "tQOse6c5r4tT",
        "outputId": "d6547ab7-facf-46a6-9266-2788063eb761",
        "colab": {
          "base_uri": "https://localhost:8080/",
          "height": 34
        }
      },
      "source": [
        "i = 20\n",
        "if (i == 10): \n",
        "\tprint (\"i is 10\")\n",
        "  \n",
        "elif (i == 15): \n",
        "\tprint (\"i is 15\") \n",
        " \n",
        "elif (i == 20): \n",
        "\tprint (\"i is 20\") \n",
        " \n",
        "else: \n",
        "\tprint (\"i is not present\") \n",
        " \n"
      ],
      "execution_count": 0,
      "outputs": [
        {
          "output_type": "stream",
          "text": [
            "i is 20\n"
          ],
          "name": "stdout"
        }
      ]
    }
  ]
}