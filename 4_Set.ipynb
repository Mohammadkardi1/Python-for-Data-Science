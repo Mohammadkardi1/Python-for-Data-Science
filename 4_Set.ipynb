{
  "nbformat": 4,
  "nbformat_minor": 0,
  "metadata": {
    "colab": {
      "name": "training.ipynb",
      "provenance": [],
      "collapsed_sections": []
    },
    "kernelspec": {
      "name": "python3",
      "display_name": "Python 3"
    },
    "accelerator": "GPU"
  },
  "cells": [
    {
      "cell_type": "markdown",
      "metadata": {
        "id": "XeW8utYbBUWF",
        "colab_type": "text"
      },
      "source": [
        "#Python Sets\n",
        "In Python, Set is an unordered collection of data type that is iterable, mutable and has no duplicate elements. The order of elements in a set is undefined though it may consist of various elements.\n",
        "\n",
        "The major advantage of using a set, as opposed to a list, is that it has a highly optimized method for checking whether a specific element is contained in the set."
      ]
    },
    {
      "cell_type": "markdown",
      "metadata": {
        "id": "KloDhpBCBprI",
        "colab_type": "text"
      },
      "source": [
        "#Creating a Set\n",
        "Sets can be created by using the built-in set() function with an iterable object or a sequence by placing the sequence inside curly braces, separated by ‘comma’."
      ]
    },
    {
      "cell_type": "code",
      "metadata": {
        "id": "VcD8GfU2BUre",
        "colab_type": "code",
        "colab": {
          "base_uri": "https://localhost:8080/",
          "height": 202
        },
        "outputId": "c73bb86d-054f-4a87-94a0-6527666edd91"
      },
      "source": [
        "# Creating a Set \n",
        "set1 = {}\n",
        "print(\"Intial blank Set: \") \n",
        "print(set1) \n",
        "\n",
        "# Creating a Set with \n",
        "# the use of a String \n",
        "set1 = set(\"Facebook\") \n",
        "print(\"\\nSet with the use of String: \") \n",
        "print(set1) \n",
        "\n",
        "# Creating a Set with \n",
        "# the use of Constructor \n",
        "# (Using object to Store String) \n",
        "String = 'Apple'\n",
        "set1 = set(String) \n",
        "print(\"\\nSet with the use of an Object: \" ) \n",
        "print(set1) \n",
        "\n",
        "# Creating a Set with \n",
        "# the use of a List \n",
        "set1 = set([\"Apple\", \"Banana\"]) \n",
        "print(\"\\nSet with the use of List: \") \n",
        "print(set1) \n"
      ],
      "execution_count": 1,
      "outputs": [
        {
          "output_type": "stream",
          "text": [
            "Intial blank Set: \n",
            "{}\n",
            "\n",
            "Set with the use of String: \n",
            "{'c', 'F', 'b', 'o', 'e', 'a', 'k'}\n",
            "\n",
            "Set with the use of an Object: \n",
            "{'e', 'A', 'p', 'l'}\n",
            "\n",
            "Set with the use of List: \n",
            "{'Banana', 'Apple'}\n"
          ],
          "name": "stdout"
        }
      ]
    },
    {
      "cell_type": "markdown",
      "metadata": {
        "id": "GGXiUiSlCRSc",
        "colab_type": "text"
      },
      "source": [
        "A set contains only unique elements but at the time of set creation, multiple duplicate values can also be passed. Order of elements in a set is undefined and is unchangeable. Type of elements in a set need not be the same, various mixed up data type values can also be passed to the set."
      ]
    },
    {
      "cell_type": "code",
      "metadata": {
        "id": "IO8xMDzcCSit",
        "colab_type": "code",
        "colab": {
          "base_uri": "https://localhost:8080/",
          "height": 67
        },
        "outputId": "206c66ad-5a0c-4282-efec-3e0dd26d361c"
      },
      "source": [
        "# Creating a Set with \n",
        "# a List of Numbers \n",
        "# (Having duplicate values) \n",
        "set1 = set([1, 2, 4, 4, 3, 3, 3, 6, 5]) \n",
        "print(\"\\nSet with the use of Numbers: \") \n",
        "print(set1) \n",
        "\n"
      ],
      "execution_count": 2,
      "outputs": [
        {
          "output_type": "stream",
          "text": [
            "\n",
            "Set with the use of Numbers: \n",
            "{1, 2, 3, 4, 5, 6}\n"
          ],
          "name": "stdout"
        }
      ]
    },
    {
      "cell_type": "markdown",
      "metadata": {
        "id": "J-aE7k7aCb0v",
        "colab_type": "text"
      },
      "source": [
        "#Adding Elements to a Set\n",
        "\n",
        "**Using add() method**\n",
        "\n",
        "Elements can be added to the Set by using built-in add() function. Only one element at a time can be added to the set by using add() method"
      ]
    },
    {
      "cell_type": "code",
      "metadata": {
        "id": "RWSVyCG1C2YC",
        "colab_type": "code",
        "colab": {
          "base_uri": "https://localhost:8080/",
          "height": 101
        },
        "outputId": "c35c91f2-a9f4-4acc-bc08-2e05b1ca930a"
      },
      "source": [
        "# Creating a Set \n",
        "set1 = set() \n",
        "print(\"Intial blank Set: \") \n",
        "print(set1) \n",
        "\n",
        "# Adding element  to the Set \n",
        "set1.add(8) \n",
        "set1.add(9) \n",
        "print(\"\\nSet after Addition of Two elements: \") \n",
        "print(set1) \n"
      ],
      "execution_count": 3,
      "outputs": [
        {
          "output_type": "stream",
          "text": [
            "Intial blank Set: \n",
            "set()\n",
            "\n",
            "Set after Addition of Two elements: \n",
            "{8, 9}\n"
          ],
          "name": "stdout"
        }
      ]
    },
    {
      "cell_type": "markdown",
      "metadata": {
        "id": "BmPO7SajDLwA",
        "colab_type": "text"
      },
      "source": [
        "**Note –** Lists cannot be added to a set as elements because Lists are not hashable whereas Tuples can be added because tuples are immutable and hence Hashable."
      ]
    },
    {
      "cell_type": "code",
      "metadata": {
        "id": "jpkps2rFDNRg",
        "colab_type": "code",
        "colab": {
          "base_uri": "https://localhost:8080/",
          "height": 101
        },
        "outputId": "1337682a-9a1c-4db1-b28b-5c0e637f8003"
      },
      "source": [
        "# Creating a Set \n",
        "set1 = set() \n",
        "print(\"Intial blank Set: \") \n",
        "print(set1) \n",
        "\n",
        "# Adding  tuple to the Set \n",
        "set1.add((6,7)) \n",
        "print(\"\\nSet after Addition of  elements: \") \n",
        "print(set1) "
      ],
      "execution_count": 4,
      "outputs": [
        {
          "output_type": "stream",
          "text": [
            "Intial blank Set: \n",
            "set()\n",
            "\n",
            "Set after Addition of  elements: \n",
            "{(6, 7)}\n"
          ],
          "name": "stdout"
        }
      ]
    },
    {
      "cell_type": "markdown",
      "metadata": {
        "id": "2NSlMXDQDzKX",
        "colab_type": "text"
      },
      "source": [
        "**Using update() method**\n",
        "For addition of two or more elements Update() method is used. The update() method accepts lists, strings, tuples as well as other sets as its arguments. In all of these cases, duplicate elements are avoided."
      ]
    },
    {
      "cell_type": "code",
      "metadata": {
        "id": "CnxsqvxeD0cb",
        "colab_type": "code",
        "colab": {
          "base_uri": "https://localhost:8080/",
          "height": 67
        },
        "outputId": "b841b967-6e17-4e6c-c105-b632d566527d"
      },
      "source": [
        "# Addition of elements to the Set \n",
        "# using Update function \n",
        "set1 = { 4, 5, (6, 7)}\n",
        "set1.update([10, 11]) \n",
        "print(\"\\nSet after Addition of elements using Update: \") \n",
        "print(set1) \n"
      ],
      "execution_count": 5,
      "outputs": [
        {
          "output_type": "stream",
          "text": [
            "\n",
            "Set after Addition of elements using Update: \n",
            "{4, 5, (6, 7), 10, 11}\n"
          ],
          "name": "stdout"
        }
      ]
    },
    {
      "cell_type": "markdown",
      "metadata": {
        "id": "rD7q29RsD_N6",
        "colab_type": "text"
      },
      "source": [
        "#Accessing a Set\n",
        "\n",
        "Set items cannot be accessed by referring to an index, since sets are unordered the items has no index. But you can loop through the set items using a for loop, or ask if a specified value is present in a set, by using the in keyword."
      ]
    },
    {
      "cell_type": "code",
      "metadata": {
        "id": "47ePfsD0EEoq",
        "colab_type": "code",
        "colab": {
          "base_uri": "https://localhost:8080/",
          "height": 202
        },
        "outputId": "b9175166-6dd0-49e7-bb64-406cb299053e"
      },
      "source": [
        "# Creating a set \n",
        "set1 = set([\"Apple\", \"Banana\", \"Orange\"]) \n",
        "print(\"\\nInitial set\") \n",
        "print(set1) \n",
        "\n",
        "# Accessing element using \n",
        "# for loop \n",
        "print(\"\\nElements of set: \") \n",
        "for i in set1: \n",
        "\tprint(i) \n",
        "\n",
        "# Checking the element \n",
        "# using in keyword \n",
        "print('\\n')\n",
        "print(\"Orange\" in set1) \n"
      ],
      "execution_count": 6,
      "outputs": [
        {
          "output_type": "stream",
          "text": [
            "\n",
            "Initial set\n",
            "{'Banana', 'Apple', 'Orange'}\n",
            "\n",
            "Elements of set: \n",
            "Banana\n",
            "Apple\n",
            "Orange\n",
            "\n",
            "\n",
            "True\n"
          ],
          "name": "stdout"
        }
      ]
    },
    {
      "cell_type": "markdown",
      "metadata": {
        "id": "SabWYrG5E1kx",
        "colab_type": "text"
      },
      "source": [
        "#Removing elements from the Set\n",
        "\n",
        "**Using remove() method or discard() method**\n",
        "Elements can be removed from the Set by using built-in remove() function but a KeyError arises if element doesn’t exist in the set. To remove elements from a set without KeyError, use discard(), if the element doesn’t exist in the set, it remains unchanged."
      ]
    },
    {
      "cell_type": "code",
      "metadata": {
        "id": "4T5f0QofE8y8",
        "colab_type": "code",
        "colab": {
          "base_uri": "https://localhost:8080/",
          "height": 151
        },
        "outputId": "4e7ede31-19a0-40a7-f24a-bc8c8075983d"
      },
      "source": [
        "# Creating a Set \n",
        "set1 = {1, 2, 3, 4, 5, 6, 7, 8, 9, 10, 11, 12}  \n",
        "print(\"Intial Set: \") \n",
        "print(set1) \n",
        "\n",
        "# Removing elements from Set \n",
        "# using Remove() method \n",
        "set1.remove(5) \n",
        "set1.remove(6) \n",
        "print(\"\\nSet after Removal of two elements: \") \n",
        "print(set1) \n",
        "\n",
        "# Removing elements from Set \n",
        "# using Discard() method \n",
        "set1.discard(8) \n",
        "set1.discard(9) \n",
        "print(\"\\nSet after Discarding two elements: \") \n",
        "print(set1) \n",
        "\n",
        "\n"
      ],
      "execution_count": 7,
      "outputs": [
        {
          "output_type": "stream",
          "text": [
            "Intial Set: \n",
            "{1, 2, 3, 4, 5, 6, 7, 8, 9, 10, 11, 12}\n",
            "\n",
            "Set after Removal of two elements: \n",
            "{1, 2, 3, 4, 7, 8, 9, 10, 11, 12}\n",
            "\n",
            "Set after Discarding two elements: \n",
            "{1, 2, 3, 4, 7, 10, 11, 12}\n"
          ],
          "name": "stdout"
        }
      ]
    },
    {
      "cell_type": "markdown",
      "metadata": {
        "id": "T72kP_MPFHou",
        "colab_type": "text"
      },
      "source": [
        "#Using pop() method\n",
        "Pop() function can also be used to remove and return an element from the set, but it removes only the last element of the set.\n",
        "\n",
        "**Note –** If the set is unordered then there’s no such way to determine which element is popped by using the pop() function."
      ]
    },
    {
      "cell_type": "code",
      "metadata": {
        "id": "3oq16iBUFPej",
        "colab_type": "code",
        "colab": {
          "base_uri": "https://localhost:8080/",
          "height": 101
        },
        "outputId": "3bd1205f-4577-4fc1-c77d-fce26be9293c"
      },
      "source": [
        "# Creating a Set \n",
        "set1 = {1, 2, 3, 4, 5, 6, 7, 8, 9, 10, 11, 12} \n",
        "print(\"Intial Set: \") \n",
        "print(set1) \n",
        "\n",
        "# Removing element from the \n",
        "# Set using the pop() method \n",
        "set1.pop() \n",
        "print(\"\\nSet after popping an element: \") \n",
        "print(set1) \n"
      ],
      "execution_count": 8,
      "outputs": [
        {
          "output_type": "stream",
          "text": [
            "Intial Set: \n",
            "{1, 2, 3, 4, 5, 6, 7, 8, 9, 10, 11, 12}\n",
            "\n",
            "Set after popping an element: \n",
            "{2, 3, 4, 5, 6, 7, 8, 9, 10, 11, 12}\n"
          ],
          "name": "stdout"
        }
      ]
    },
    {
      "cell_type": "markdown",
      "metadata": {
        "id": "WgEXuGZ3FhAq",
        "colab_type": "text"
      },
      "source": [
        "**Using clear() method**\n",
        "\n",
        "To remove all the elements from the set, clear() function is used."
      ]
    },
    {
      "cell_type": "code",
      "metadata": {
        "id": "nfGjGpGyFoEc",
        "colab_type": "code",
        "colab": {
          "base_uri": "https://localhost:8080/",
          "height": 118
        },
        "outputId": "9d5b60dd-2548-44db-8644-8d01e212637b"
      },
      "source": [
        "#Creating a set \n",
        "set1 = {1,2,3,4,5}\n",
        "print(\"\\n Initial set: \") \n",
        "print(set1) \n",
        "\n",
        "\n",
        "# Removing all the elements from \n",
        "# Set using clear() method \n",
        "set1.clear() \n",
        "print(\"\\nSet after clearing all the elements: \") \n",
        "print(set1) \n"
      ],
      "execution_count": 9,
      "outputs": [
        {
          "output_type": "stream",
          "text": [
            "\n",
            " Initial set: \n",
            "{1, 2, 3, 4, 5}\n",
            "\n",
            "Set after clearing all the elements: \n",
            "set()\n"
          ],
          "name": "stdout"
        }
      ]
    }
  ]
}