{
  "nbformat": 4,
  "nbformat_minor": 0,
  "metadata": {
    "colab": {
      "name": "training.ipynb",
      "provenance": [],
      "collapsed_sections": []
    },
    "kernelspec": {
      "name": "python3",
      "display_name": "Python 3"
    },
    "accelerator": "GPU"
  },
  "cells": [
    {
      "cell_type": "markdown",
      "metadata": {
        "id": "q00NfI1q3bbJ",
        "colab_type": "text"
      },
      "source": [
        "# Strings in Python\n",
        "\n",
        "In Python, Strings are arrays of bytes representing Unicode characters. However, Python does not have a character data type, a single character is simply a string with a length of 1. Square brackets can be used to access elements of the string.\n",
        "\n",
        "**Creating a String**\n",
        "\n",
        "Strings in Python can be created using single quotes or double quotes or even triple quotes."
      ]
    },
    {
      "cell_type": "code",
      "metadata": {
        "id": "QLVBZeiU3oiK",
        "colab_type": "code",
        "colab": {
          "base_uri": "https://localhost:8080/",
          "height": 50
        },
        "outputId": "dab30532-d456-450d-a863-f89cfe1b1460"
      },
      "source": [
        "# Creating a String \n",
        "# with single Quotes \n",
        "String1 = 'String with the use of Single Quotes'\n",
        "print(String1) \n",
        "\n",
        "# Creating a String \n",
        "# with double Quotes \n",
        "String2 = \"String with the use of Double Quotes\"\n",
        "print(String2) "
      ],
      "execution_count": 1,
      "outputs": [
        {
          "output_type": "stream",
          "text": [
            "String with the use of Single Quotes\n",
            "String with the use of Double Quotes\n"
          ],
          "name": "stdout"
        }
      ]
    },
    {
      "cell_type": "markdown",
      "metadata": {
        "id": "H8-t7DZf4pL2",
        "colab_type": "text"
      },
      "source": [
        "# Accessing characters in Python\n",
        "\n",
        "In Python, individual characters of a String can be accessed by using the method of Indexing."
      ]
    },
    {
      "cell_type": "code",
      "metadata": {
        "id": "W1n7akbx4y4P",
        "colab_type": "code",
        "colab": {
          "base_uri": "https://localhost:8080/",
          "height": 50
        },
        "outputId": "52a70ae8-6172-45b7-8766-679004f8eb3c"
      },
      "source": [
        "String = \"Hello, I'm Mohammad\"\n",
        "\n",
        "# Printing First character \n",
        "print(\"First character of String is: \") \n",
        "print(String[0]) \n",
        "\n",
        " \n"
      ],
      "execution_count": 2,
      "outputs": [
        {
          "output_type": "stream",
          "text": [
            "First character of String is: \n",
            "H\n"
          ],
          "name": "stdout"
        }
      ]
    },
    {
      "cell_type": "markdown",
      "metadata": {
        "id": "iZ0OByJH4z1v",
        "colab_type": "text"
      },
      "source": [
        "Indexing allows negative address references to access characters from the back of the String, e.g. -1 refers to the last character, -2 refers to the second last character and so on."
      ]
    },
    {
      "cell_type": "code",
      "metadata": {
        "id": "WMtj0XUu44Ev",
        "colab_type": "code",
        "colab": {
          "base_uri": "https://localhost:8080/",
          "height": 50
        },
        "outputId": "f8424d7b-58bc-41cd-f905-d3e4ff8b5567"
      },
      "source": [
        "String = \"Hello, I'm Mohammad\"\n",
        "\n",
        "# Printing Last character \n",
        "print(\"Last character of String is: \") \n",
        "print(String[-1])"
      ],
      "execution_count": 3,
      "outputs": [
        {
          "output_type": "stream",
          "text": [
            "Last character of String is: \n",
            "d\n"
          ],
          "name": "stdout"
        }
      ]
    },
    {
      "cell_type": "markdown",
      "metadata": {
        "id": "iLioUOCE5Kjs",
        "colab_type": "text"
      },
      "source": [
        "# String Slicing\n",
        "\n",
        "To access a range of characters in the String, method of slicing is used. Slicing in a String is done by using a Slicing operator (colon)."
      ]
    },
    {
      "cell_type": "code",
      "metadata": {
        "id": "aHZ7Pls45Wmc",
        "colab_type": "code",
        "colab": {
          "base_uri": "https://localhost:8080/",
          "height": 101
        },
        "outputId": "bb5c122a-aa18-4e8a-8497-70d8add988e4"
      },
      "source": [
        "# Creating a String \n",
        "String = \"Hello, I'm Mohammad\"\n",
        "print(String) \n",
        "\n",
        "# Printing 3rd to 12th character \n",
        "print(\"Slicing characters from 3-8: \") \n",
        "print(String[3:8]) \n",
        "\n",
        "# Printing characters between \n",
        "# 3rd and 2nd last character \n",
        "print(\"Slicing characters between \" +\n",
        "\t\"3rd and 2nd last character: \") \n",
        "print(String[3:-2]) \n"
      ],
      "execution_count": 4,
      "outputs": [
        {
          "output_type": "stream",
          "text": [
            "Hello, I'm Mohammad\n",
            "Slicing characters from 3-8: \n",
            "lo, I\n",
            "Slicing characters between 3rd and 2nd last character: \n",
            "lo, I'm Mohamm\n"
          ],
          "name": "stdout"
        }
      ]
    },
    {
      "cell_type": "markdown",
      "metadata": {
        "id": "3ZjFwbsj57nn",
        "colab_type": "text"
      },
      "source": [
        "# Deleting Entire String:"
      ]
    },
    {
      "cell_type": "code",
      "metadata": {
        "id": "Iz8c1qNr57w4",
        "colab_type": "code",
        "colab": {
          "base_uri": "https://localhost:8080/",
          "height": 34
        },
        "outputId": "e028bc84-9e02-4778-b042-22091195e4f6"
      },
      "source": [
        "String = \"Hello, I'm Mohammad\"\n",
        "print(String) \n",
        "\n",
        "# Deleting a String \n",
        "# with the use of del \n",
        "del String1 \n"
      ],
      "execution_count": 5,
      "outputs": [
        {
          "output_type": "stream",
          "text": [
            "Hello, I'm Mohammad\n"
          ],
          "name": "stdout"
        }
      ]
    },
    {
      "cell_type": "markdown",
      "metadata": {
        "id": "NOEc0Ha_7vIn",
        "colab_type": "text"
      },
      "source": [
        "# Formatting of Strings\n",
        "\n",
        "Strings in Python can be formatted with the use of format() method which is very versatile and powerful tool for formatting of Strings. Format method in String contains curly braces {} as placeholders which can hold arguments according to position or keyword to specify the order."
      ]
    },
    {
      "cell_type": "code",
      "metadata": {
        "id": "96_E1VYX7vSg",
        "colab_type": "code",
        "colab": {
          "base_uri": "https://localhost:8080/",
          "height": 67
        },
        "outputId": "5580fda7-5c26-4a84-b416-5a8682cd8dfa"
      },
      "source": [
        "# Default order \n",
        "String1 = \"{} {} {}\".format('Cat', 'Dog', 'Rabbit') \n",
        "print(String1) \n",
        "\n",
        "# Positional Formatting \n",
        "String2 = \"{1} {0} {2}\".format('Cat', 'Dog', 'Rabbit') \n",
        "print(String2) \n",
        "\n",
        "# Keyword Formatting \n",
        "String3 = \"{l} {f} {g}\".format(g = 'Cat', f = 'Dog', l = 'Rabbit') \n",
        "print(String3) \n"
      ],
      "execution_count": 7,
      "outputs": [
        {
          "output_type": "stream",
          "text": [
            "Cat Dog Rabbit\n",
            "Dog Cat Rabbit\n",
            "Rabbit Dog Cat\n"
          ],
          "name": "stdout"
        }
      ]
    },
    {
      "cell_type": "code",
      "metadata": {
        "id": "z6swsFd78Eo5",
        "colab_type": "code",
        "colab": {
          "base_uri": "https://localhost:8080/",
          "height": 151
        },
        "outputId": "50ed1c6c-3ed4-4ef1-80f2-6b1aa8568651"
      },
      "source": [
        "# Formatting of Integers \n",
        "String1 = \"{0:b}\".format(16) \n",
        "print(\"Binary representation of 16 is \") \n",
        "print(String1) \n",
        "\n",
        "# Formatting of Floats \n",
        "String2 = \"{0:e}\".format(165.6458) \n",
        "print(\"\\nExponent representation of 165.6458 is \") \n",
        "print(String2) \n",
        "\n",
        "# Rounding off Integers \n",
        "String3 = \"{0:.2f}\".format(1/6) \n",
        "print(\"\\none-sixth is : \") \n",
        "print(String3) \n"
      ],
      "execution_count": 8,
      "outputs": [
        {
          "output_type": "stream",
          "text": [
            "Binary representation of 16 is \n",
            "10000\n",
            "\n",
            "Exponent representation of 165.6458 is \n",
            "1.656458e+02\n",
            "\n",
            "one-sixth is : \n",
            "0.17\n"
          ],
          "name": "stdout"
        }
      ]
    }
  ]
}