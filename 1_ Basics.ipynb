{
  "nbformat": 4,
  "nbformat_minor": 0,
  "metadata": {
    "colab": {
      "name": "training.ipynb",
      "provenance": [],
      "collapsed_sections": []
    },
    "kernelspec": {
      "name": "python3",
      "display_name": "Python 3"
    },
    "accelerator": "GPU"
  },
  "cells": [
    {
      "cell_type": "markdown",
      "metadata": {
        "id": "Zc_HAC1gcH1s",
        "colab_type": "text"
      },
      "source": [
        "# Python Language Introduction"
      ]
    },
    {
      "cell_type": "markdown",
      "metadata": {
        "id": "KGzuIwcySVuF",
        "colab_type": "text"
      },
      "source": [
        "Python is a widely used general-purpose, high level programming language. It was initially designed by Guido van Rossum in 1991 and developed by Python Software Foundation. It was mainly developed for emphasis on code readability, and its syntax allows programmers to express concepts in fewer lines of code\n",
        "\n",
        "\n",
        "Python is a programming language that lets you work quickly and integrate systems more efficiently.\n",
        "\n",
        "Following is program in Python\n",
        "\n"
      ]
    },
    {
      "cell_type": "code",
      "metadata": {
        "id": "RIiBExnXQWvG",
        "colab_type": "code",
        "colab": {
          "base_uri": "https://localhost:8080/",
          "height": 34
        },
        "outputId": "49828c03-a46e-4e77-8229-9fb4cf130859"
      },
      "source": [
        "print(\"Hello world\") "
      ],
      "execution_count": 1,
      "outputs": [
        {
          "output_type": "stream",
          "text": [
            "Hello world\n"
          ],
          "name": "stdout"
        }
      ]
    },
    {
      "cell_type": "markdown",
      "metadata": {
        "id": "8iQHFVPicO50",
        "colab_type": "text"
      },
      "source": [
        "# Keywords in Python\n"
      ]
    },
    {
      "cell_type": "markdown",
      "metadata": {
        "id": "u3ip4gwxUBOA",
        "colab_type": "text"
      },
      "source": [
        "\n",
        "**1. True :** This keyword is used to represent a boolean true. If a statement is true, “True” is printed.\n",
        "\n",
        "**2. False :** This keyword is used to represent a boolean false. If a statement is false, “False” is printed.\n",
        "\n",
        "**3. None :** This is a special constant used to denote a null value or a void. Its important to remember, 0, any empty container(e.g empty list) do not compute to None.\n",
        "It is an object of its own datatype – NoneType. It is not possible to create multiple None objects and can assign it to variables.\n",
        "\n",
        "**4. and :** This a logical operator in python. “and” Return the first false value .if not found return last.\n",
        "\n",
        "**5. or :** This a logical operator in python. “or” Return the first True value.if not found return last.\n",
        "\n",
        "**6. not :** This logical operator inverts the truth value. \n"
      ]
    },
    {
      "cell_type": "code",
      "metadata": {
        "id": "_19m62laVy65",
        "colab_type": "code",
        "colab": {
          "base_uri": "https://localhost:8080/",
          "height": 67
        },
        "outputId": "fb608550-8d00-406a-aea8-e50f3b700f83"
      },
      "source": [
        "print (True or False) \n",
        " \n",
        "print (False and True) \n",
        "  \n",
        "print (not True) "
      ],
      "execution_count": 2,
      "outputs": [
        {
          "output_type": "stream",
          "text": [
            "True\n",
            "False\n",
            "False\n"
          ],
          "name": "stdout"
        }
      ]
    },
    {
      "cell_type": "markdown",
      "metadata": {
        "id": "20EPQ4I5w-1-",
        "colab_type": "text"
      },
      "source": [
        "**7. break :** “break” is used to control the flow of loop. The statement is used to break out of loop and passes the control to the statement following immediately after loop."
      ]
    },
    {
      "cell_type": "code",
      "metadata": {
        "id": "sLfve58CxANO",
        "colab_type": "code",
        "colab": {
          "base_uri": "https://localhost:8080/",
          "height": 67
        },
        "outputId": "e4c1fa52-894b-43cd-8682-8a59986b515e"
      },
      "source": [
        "i = 1\n",
        "while i < 6:\n",
        "  print(i)\n",
        "  if i == 3:\n",
        "    break\n",
        "  i += 1"
      ],
      "execution_count": 3,
      "outputs": [
        {
          "output_type": "stream",
          "text": [
            "1\n",
            "2\n",
            "3\n"
          ],
          "name": "stdout"
        }
      ]
    },
    {
      "cell_type": "markdown",
      "metadata": {
        "id": "yh-5zfK8xFm5",
        "colab_type": "text"
      },
      "source": [
        "**8. continue :** “continue” is also used to control the flow of code. The keyword skips the current iteration of the loop, but does not end the loop."
      ]
    },
    {
      "cell_type": "code",
      "metadata": {
        "id": "iDchirT2xGeI",
        "colab_type": "code",
        "colab": {
          "base_uri": "https://localhost:8080/",
          "height": 101
        },
        "outputId": "5c3cef14-fce7-4a30-b606-497def816796"
      },
      "source": [
        "i = 0\n",
        "while i < 6:\n",
        "  i += 1\n",
        "  if i == 3:\n",
        "    continue\n",
        "  print(i)"
      ],
      "execution_count": 4,
      "outputs": [
        {
          "output_type": "stream",
          "text": [
            "1\n",
            "2\n",
            "4\n",
            "5\n",
            "6\n"
          ],
          "name": "stdout"
        }
      ]
    },
    {
      "cell_type": "markdown",
      "metadata": {
        "id": "N3w0U2gFsnQa",
        "colab_type": "text"
      },
      "source": [
        "\n",
        "\n",
        "\n",
        "\n",
        "**9. class :** This keyword is used to declare user defined classes.\n",
        "\n",
        "**10. def :** This keyword is used to declare user defined functions.\n",
        "\n",
        "**11. if :** It is a control statement for decision making. Truth expression forces control to go in “if” statement block.\n",
        "\n",
        "**12. else :** It is a control statement for decision making. False expression forces control to go in “else” statement block.\n",
        "\n",
        "**13. elif :** It is a control statement for decision making. It is short for “else if”\n",
        "\n",
        "**13. del :** del is used to delete a reference to an object. Any variable or list value can be deleted using del."
      ]
    },
    {
      "cell_type": "code",
      "metadata": {
        "id": "M31xmoXoWpPq",
        "colab_type": "code",
        "colab": {
          "base_uri": "https://localhost:8080/",
          "height": 84
        },
        "outputId": "62ca1c62-47f5-4203-8e67-d401d1852b69"
      },
      "source": [
        "# initialising list \n",
        "a = [1, 2, 3] \n",
        "\n",
        "# printing list before deleting any value \n",
        "print (\"The list before deleting any value\") \n",
        "print (a) \n",
        "\n",
        "# using del to delete 2nd element of list \n",
        "del a[1] \n",
        "\n",
        "# printing list after deleting 2nd element \n",
        "print (\"The list after deleting 2nd element\") \n",
        "print (a) "
      ],
      "execution_count": 5,
      "outputs": [
        {
          "output_type": "stream",
          "text": [
            "The list before deleting any value\n",
            "[1, 2, 3]\n",
            "The list after deleting 2nd element\n",
            "[1, 3]\n"
          ],
          "name": "stdout"
        }
      ]
    },
    {
      "cell_type": "markdown",
      "metadata": {
        "id": "AesnB-l3XLsV",
        "colab_type": "text"
      },
      "source": [
        "**15. try :** This keyword is used for exception handling, used to catch the errors in the code using the keyword except. Code in “try” block is checked, if there is any type of error, except block is executed.\n",
        "\n",
        "**16. except :** this works together with “try” to catch exceptions.\n",
        "\n",
        "**17. for :** This keyword is used to control flow and for looping.\n",
        "\n",
        "**18. while :** Has a similar working like “for” , used to control flow and for looping.\n",
        "\n"
      ]
    },
    {
      "cell_type": "code",
      "metadata": {
        "id": "F39GZmKywzUJ",
        "colab_type": "code",
        "colab": {
          "base_uri": "https://localhost:8080/",
          "height": 101
        },
        "outputId": "f0a10043-2144-418e-9a5e-6441735184af"
      },
      "source": [
        "i = 1\n",
        "while i < 6:\n",
        "  print(i)\n",
        "  i += 1"
      ],
      "execution_count": 6,
      "outputs": [
        {
          "output_type": "stream",
          "text": [
            "1\n",
            "2\n",
            "3\n",
            "4\n",
            "5\n"
          ],
          "name": "stdout"
        }
      ]
    },
    {
      "cell_type": "markdown",
      "metadata": {
        "id": "q2-hDLrZwzia",
        "colab_type": "text"
      },
      "source": [
        "**19. import :** This statement is used to include a particular module into current program.\n",
        "\n",
        "**20. from :** Generally used with import, from is used to import particular functionality from the module imported.\n",
        "\n",
        "**21. as :** This keyword is used to create the alias for the module imported. i.e giving a new name to the imported module.. E.g import math as mymath."
      ]
    },
    {
      "cell_type": "code",
      "metadata": {
        "id": "F62z58VnwGoe",
        "colab_type": "code",
        "colab": {}
      },
      "source": [
        "import math\n",
        "\n",
        "import numpy as np\n",
        "\n",
        "from matplotlib import pyplot"
      ],
      "execution_count": 0,
      "outputs": []
    },
    {
      "cell_type": "markdown",
      "metadata": {
        "id": "9rnNsm0SwGyj",
        "colab_type": "text"
      },
      "source": [
        "**22. lambda :** This keyword is used to make inline returning functions with no statements allowed internally."
      ]
    },
    {
      "cell_type": "code",
      "metadata": {
        "id": "a0zkXZ7vvN6g",
        "colab_type": "code",
        "colab": {
          "base_uri": "https://localhost:8080/",
          "height": 50
        },
        "outputId": "6ad4681b-56c7-45be-8af3-9be46db3b71b"
      },
      "source": [
        "#A lambda function that adds 10 to the number passed\n",
        "#in as an argument, and print the result\n",
        "x = lambda a : a + 10\n",
        "print(x(5))\n",
        "\n",
        "#A lambda function that multiplies argument\n",
        "#a with argument b and print the result\n",
        "\n",
        "y = lambda a, b : a * b\n",
        "print(y(5, 6))"
      ],
      "execution_count": 8,
      "outputs": [
        {
          "output_type": "stream",
          "text": [
            "15\n",
            "30\n"
          ],
          "name": "stdout"
        }
      ]
    },
    {
      "cell_type": "markdown",
      "metadata": {
        "id": "chFRfHbTvOO1",
        "colab_type": "text"
      },
      "source": [
        "**23. return :** This keyword is used to return from the function.\n",
        "\n",
        "**24. yield :** This keyword is used like return statement but is used to return a generator. "
      ]
    },
    {
      "cell_type": "code",
      "metadata": {
        "id": "dt_Tpy2yuc6Z",
        "colab_type": "code",
        "colab": {
          "base_uri": "https://localhost:8080/",
          "height": 67
        },
        "outputId": "29eb5248-7d41-4896-ff42-a5dc38381f80"
      },
      "source": [
        "# A generator function that yields 1 for first time, \n",
        "# 2 second time and 3 third time \n",
        "def simpleGeneratorFun(): \n",
        "\tyield 1\n",
        "\tyield 2\n",
        "\tyield 3\n",
        "\n",
        "# Driver code to check above generator function \n",
        "for value in simpleGeneratorFun(): \n",
        "\tprint(value) \n"
      ],
      "execution_count": 9,
      "outputs": [
        {
          "output_type": "stream",
          "text": [
            "1\n",
            "2\n",
            "3\n"
          ],
          "name": "stdout"
        }
      ]
    },
    {
      "cell_type": "markdown",
      "metadata": {
        "id": "tGS7lJCbudD5",
        "colab_type": "text"
      },
      "source": [
        "**25. with :** This keyword is used to wrap the execution of block of code within methods defined by context manager.This keyword is not used much in day to day programming.\n",
        "\n",
        "**26. in :** This keyword is used to check if a container contains a value. This keyword is also used to loop through the container.\n",
        "\n",
        "**27. is :** This keyword is used to test object identity, i.e to check if both the objects take same memory location or not."
      ]
    },
    {
      "cell_type": "markdown",
      "metadata": {
        "id": "JrmNuJA9cAKM",
        "colab_type": "text"
      },
      "source": [
        "# Indentation"
      ]
    },
    {
      "cell_type": "markdown",
      "metadata": {
        "id": "neooOKQyYlUt",
        "colab_type": "text"
      },
      "source": [
        "A block is a combination of all these statements. Block can be regarded as the grouping of statements for a specific purpose. Most of the programming languages like C, C++, Java use braces { } to define a block of code. One of the distinctive features of Python is its use of indentation to highlight the blocks of code. Whitespace is used for indentation in Python. All statements with the same distance to the right belong to the same block of code. If a block has to be more deeply nested, it is simply indented further to the right.\n"
      ]
    },
    {
      "cell_type": "code",
      "metadata": {
        "id": "CxX3BhE2Zzqm",
        "colab_type": "code",
        "colab": {
          "base_uri": "https://localhost:8080/",
          "height": 34
        },
        "outputId": "8efd6767-9464-48fc-91df-7b935a4619e8"
      },
      "source": [
        "def some_func(): \n",
        "\tprint(\"You are welcome to some_func\") \n",
        "\n",
        "\n",
        "some_func() "
      ],
      "execution_count": 10,
      "outputs": [
        {
          "output_type": "stream",
          "text": [
            "You are welcome to some_func\n"
          ],
          "name": "stdout"
        }
      ]
    },
    {
      "cell_type": "markdown",
      "metadata": {
        "id": "HInVadzbcUKl",
        "colab_type": "text"
      },
      "source": [
        "# Comments"
      ]
    },
    {
      "cell_type": "markdown",
      "metadata": {
        "id": "ZPGRbx8ga8ji",
        "colab_type": "text"
      },
      "source": [
        "\n",
        "\n",
        "Python developers often make use of the comment system as, without the use of it, things can get real confusing, real fast. Comments are the useful information that the developers provide to make the reader understand the source code. It explains the logic or a part of it used in the code.\n"
      ]
    },
    {
      "cell_type": "code",
      "metadata": {
        "id": "875ywWJobDIS",
        "colab_type": "code",
        "colab": {
          "base_uri": "https://localhost:8080/",
          "height": 34
        },
        "outputId": "7a7e5b9f-1172-4f0d-fdad-5c84f479a214"
      },
      "source": [
        "a, b = 1, 3 # Declaring two integers \n",
        "sum = a + b # adding two integers \n",
        "print(sum) # displaying the output \n"
      ],
      "execution_count": 11,
      "outputs": [
        {
          "output_type": "stream",
          "text": [
            "4\n"
          ],
          "name": "stdout"
        }
      ]
    },
    {
      "cell_type": "markdown",
      "metadata": {
        "id": "RcWBneobcb77",
        "colab_type": "text"
      },
      "source": [
        "# Multi-line string as comment :"
      ]
    },
    {
      "cell_type": "markdown",
      "metadata": {
        "id": "sl41BN09bN1D",
        "colab_type": "text"
      },
      "source": [
        "\n",
        "Python multi-line comment is a piece of text enclosed in a delimiter (\"\"\") on each end of the comment. Again there should be no white space between delimiter (\"\"\"). They are useful when the comment text does not fit into one line; therefore needs to span across lines. Multi-line comments or paragraphs serve as documentation for others reading your code."
      ]
    },
    {
      "cell_type": "code",
      "metadata": {
        "id": "JNQHrOLFbnZu",
        "colab_type": "code",
        "colab": {
          "base_uri": "https://localhost:8080/",
          "height": 34
        },
        "outputId": "9f613913-5049-4315-9d41-37554705dff7"
      },
      "source": [
        "\"\"\" \n",
        "This would be\n",
        "a multiline comment \n",
        "in Python that \n",
        "\"\"\"\n",
        "print(\"multiline comment\") "
      ],
      "execution_count": 12,
      "outputs": [
        {
          "output_type": "stream",
          "text": [
            "multiline comment\n"
          ],
          "name": "stdout"
        }
      ]
    },
    {
      "cell_type": "markdown",
      "metadata": {
        "id": "L2YLTN7sde15",
        "colab_type": "text"
      },
      "source": [
        "# assign values to variables in Python"
      ]
    },
    {
      "cell_type": "code",
      "metadata": {
        "id": "wz4zGfKFdhX4",
        "colab_type": "code",
        "colab": {
          "base_uri": "https://localhost:8080/",
          "height": 34
        },
        "outputId": "b0f16116-9178-4330-8fc9-b5ae1fb2821d"
      },
      "source": [
        "# initialising variable directly \n",
        "a = 5\n",
        "\n",
        "# printing value of a \n",
        "print (\"The value of a is: \" + str(a)) \n"
      ],
      "execution_count": 13,
      "outputs": [
        {
          "output_type": "stream",
          "text": [
            "The value of a is: 5\n"
          ],
          "name": "stdout"
        }
      ]
    },
    {
      "cell_type": "markdown",
      "metadata": {
        "id": "OP49KDxLni2w",
        "colab_type": "text"
      },
      "source": [
        "# Output Formatting"
      ]
    },
    {
      "cell_type": "markdown",
      "metadata": {
        "id": "9Gn5F0IIn-Wn",
        "colab_type": "text"
      },
      "source": [
        "Formatting output using String modulo operator(%) :"
      ]
    },
    {
      "cell_type": "code",
      "metadata": {
        "id": "zFMw5CJcnkg6",
        "colab_type": "code",
        "colab": {
          "base_uri": "https://localhost:8080/",
          "height": 50
        },
        "outputId": "346ba300-749e-44aa-f26f-516d4dad11dc"
      },
      "source": [
        "# print float value \n",
        "print(\"% 1.2f\"% (435.332)) \n",
        "\n",
        "\n",
        "# print integer value \n",
        "print(\"Total students : % 3d, Boys : % 2d\" %(240, 120)) "
      ],
      "execution_count": 14,
      "outputs": [
        {
          "output_type": "stream",
          "text": [
            " 435.33\n",
            "Total students :  240, Boys :  120\n"
          ],
          "name": "stdout"
        }
      ]
    },
    {
      "cell_type": "markdown",
      "metadata": {
        "id": "RSW_JY5KpJVb",
        "colab_type": "text"
      },
      "source": [
        "Formatting output using format method :"
      ]
    },
    {
      "cell_type": "code",
      "metadata": {
        "id": "3XkJ4wU2px16",
        "colab_type": "code",
        "colab": {
          "base_uri": "https://localhost:8080/",
          "height": 50
        },
        "outputId": "f3fc225d-8185-478e-9286-62759d1fe235"
      },
      "source": [
        "# using format() method \n",
        "\n",
        "print('{0} and {1}'.format('Cat', 'Dog')) \n",
        "\n",
        "print('{1} and {0}'.format('Cat', 'Dog')) \n"
      ],
      "execution_count": 15,
      "outputs": [
        {
          "output_type": "stream",
          "text": [
            "Cat and Dog\n",
            "Dog and Cat\n"
          ],
          "name": "stdout"
        }
      ]
    },
    {
      "cell_type": "markdown",
      "metadata": {
        "id": "eJxbqdCwqeTv",
        "colab_type": "text"
      },
      "source": [
        "# Decision Making in Python (if , if..else, Nested if, if-elif)"
      ]
    },
    {
      "cell_type": "markdown",
      "metadata": {
        "id": "GV01Dcnvqnha",
        "colab_type": "text"
      },
      "source": [
        "**if statement**"
      ]
    },
    {
      "cell_type": "code",
      "metadata": {
        "id": "-xNxJ-rtqg_0",
        "colab_type": "code",
        "colab": {
          "base_uri": "https://localhost:8080/",
          "height": 34
        },
        "outputId": "d7fe358c-0120-400a-b46b-1876c2148a4e"
      },
      "source": [
        "i = 10\n",
        "if (i < 15): \n",
        "  print (\"10 is less than 15\") "
      ],
      "execution_count": 16,
      "outputs": [
        {
          "output_type": "stream",
          "text": [
            "10 is less than 15\n"
          ],
          "name": "stdout"
        }
      ]
    },
    {
      "cell_type": "markdown",
      "metadata": {
        "id": "qouT37xtq6hA",
        "colab_type": "text"
      },
      "source": [
        "**if-eles**"
      ]
    },
    {
      "cell_type": "code",
      "metadata": {
        "id": "k7wfvhGQq8W5",
        "colab_type": "code",
        "colab": {
          "base_uri": "https://localhost:8080/",
          "height": 34
        },
        "outputId": "335e29ea-0685-45e3-84eb-8ca4a66f0f4a"
      },
      "source": [
        "i = 20; \n",
        "if (i < 15): \n",
        "\tprint (\"i is smaller than 15\") \n",
        "else: \n",
        "\tprint (\"i is greater than 15\") \n",
        "\n"
      ],
      "execution_count": 17,
      "outputs": [
        {
          "output_type": "stream",
          "text": [
            "i is greater than 15\n"
          ],
          "name": "stdout"
        }
      ]
    },
    {
      "cell_type": "markdown",
      "metadata": {
        "id": "u7pcI19zrELB",
        "colab_type": "text"
      },
      "source": [
        "**nested-if**"
      ]
    },
    {
      "cell_type": "code",
      "metadata": {
        "id": "zCA-Qdh-rMv0",
        "colab_type": "code",
        "colab": {
          "base_uri": "https://localhost:8080/",
          "height": 34
        },
        "outputId": "a20c0fce-4c3c-42cc-c8cd-645ac4dfd8d1"
      },
      "source": [
        "i = 10\n",
        "if (i == 10): \n",
        "  # Nested - if statement\n",
        "\tif (i < 15): \n",
        "\t\tprint (\"i is smaller than 15\") \n"
      ],
      "execution_count": 18,
      "outputs": [
        {
          "output_type": "stream",
          "text": [
            "i is smaller than 15\n"
          ],
          "name": "stdout"
        }
      ]
    },
    {
      "cell_type": "markdown",
      "metadata": {
        "id": "yFVY4b4rrrmK",
        "colab_type": "text"
      },
      "source": [
        "**if-elif-else ladder**"
      ]
    },
    {
      "cell_type": "code",
      "metadata": {
        "id": "tQOse6c5r4tT",
        "colab_type": "code",
        "colab": {
          "base_uri": "https://localhost:8080/",
          "height": 34
        },
        "outputId": "d6547ab7-facf-46a6-9266-2788063eb761"
      },
      "source": [
        "i = 20\n",
        "if (i == 10): \n",
        "\tprint (\"i is 10\")\n",
        "  \n",
        "elif (i == 15): \n",
        "\tprint (\"i is 15\") \n",
        " \n",
        "elif (i == 20): \n",
        "\tprint (\"i is 20\") \n",
        " \n",
        "else: \n",
        "\tprint (\"i is not present\") \n",
        " \n"
      ],
      "execution_count": 19,
      "outputs": [
        {
          "output_type": "stream",
          "text": [
            "i is 20\n"
          ],
          "name": "stdout"
        }
      ]
    }
  ]
}